{
 "cells": [
  {
   "cell_type": "markdown",
   "metadata": {},
   "source": [
    "In this assignment you will practice to train and test SVM models.\n",
    "\n",
    "1) Use the new dataset SST - check the accompnying README for more details\n",
    "\n",
    "2) Provide a description of the training data using descriptive statistics: how many messages are in the data? how many values for the labels? what is the distributions of the messages in the classes? what is the average number of tokens per message?\n",
    "\n",
    "\n",
    "3) Using FeatureUnion() and Pipeline(), develop 3 different classifier using as target classes the values for the coarse-grained labels. You can combine different features (word and character ngrams) and using different vectorisation methods (Tfidf or Count). Test your Linear SVMs against the validation/development data of SST. Select the one with best scores and apply it to the SST test data\n",
    "\n",
    "4) Apply your model to the DH_CollectingData2022_review.tsv. What is your performance? \n",
    "\n",
    "5) Save your best model using pickle. \n",
    "\n",
    "\n",
    "NOTE: if you have problems in running the model on your machine, use Google Colab.\n",
    "\n"
   ]
  },
  {
   "cell_type": "code",
   "execution_count": 1,
   "metadata": {},
   "outputs": [],
   "source": [
    "import pandas as pd\n",
    "from sklearn.feature_extraction.text import CountVectorizer, TfidfVectorizer\n",
    "from sklearn.svm import LinearSVC\n",
    "from sklearn.dummy import DummyClassifier\n",
    "from sklearn.metrics import accuracy_score, classification_report\n",
    "from sklearn.pipeline import Pipeline, FeatureUnion\n",
    "from nltk.corpus import stopwords\n",
    "import pickle\n",
    "import nltk\n",
    "from sklearn.model_selection import KFold,cross_val_score,train_test_split,cross_val_predict"
   ]
  },
  {
   "cell_type": "markdown",
   "metadata": {},
   "source": [
    "# 1) Exploratory Data Analysis"
   ]
  },
  {
   "cell_type": "code",
   "execution_count": 104,
   "metadata": {},
   "outputs": [],
   "source": [
    "df_train = pd.read_csv('C:/Users/alexa/OneDrive/Documenten/trial.csv')"
   ]
  },
  {
   "cell_type": "code",
   "execution_count": 105,
   "metadata": {},
   "outputs": [],
   "source": [
    "df = df_train.groupby('Label').get_group('NONE')"
   ]
  },
  {
   "cell_type": "code",
   "execution_count": 110,
   "metadata": {},
   "outputs": [
    {
     "data": {
      "text/html": [
       "<div>\n",
       "<style scoped>\n",
       "    .dataframe tbody tr th:only-of-type {\n",
       "        vertical-align: middle;\n",
       "    }\n",
       "\n",
       "    .dataframe tbody tr th {\n",
       "        vertical-align: top;\n",
       "    }\n",
       "\n",
       "    .dataframe thead th {\n",
       "        text-align: right;\n",
       "    }\n",
       "</style>\n",
       "<table border=\"1\" class=\"dataframe\">\n",
       "  <thead>\n",
       "    <tr style=\"text-align: right;\">\n",
       "      <th></th>\n",
       "      <th>Unnamed: 0</th>\n",
       "      <th>Filename</th>\n",
       "      <th>Label</th>\n",
       "      <th>Sentence</th>\n",
       "    </tr>\n",
       "  </thead>\n",
       "  <tbody>\n",
       "    <tr>\n",
       "      <th>1</th>\n",
       "      <td>1</td>\n",
       "      <td>008_IT_2020-03-25_2022-05-13_14:45:34.4.txt</td>\n",
       "      <td>NONE</td>\n",
       "      <td>\"(20G00035) In force on: 04-14-2022 THE PRESID...</td>\n",
       "    </tr>\n",
       "    <tr>\n",
       "      <th>6</th>\n",
       "      <td>6</td>\n",
       "      <td>008_IT_2020-03-25_2022-05-13_14:45:34.4.txt</td>\n",
       "      <td>NONE</td>\n",
       "      <td>Persons with motor disabilities or with autism...</td>\n",
       "    </tr>\n",
       "    <tr>\n",
       "      <th>7</th>\n",
       "      <td>7</td>\n",
       "      <td>008_IT_2020-03-25_2022-05-13_14:45:34.4.txt</td>\n",
       "      <td>NONE</td>\n",
       "      <td>hh-bis) obligation to always have respiratory ...</td>\n",
       "    </tr>\n",
       "    <tr>\n",
       "      <th>11</th>\n",
       "      <td>11</td>\n",
       "      <td>008_IT_2020-03-25_2022-05-13_14:45:34.4.txt</td>\n",
       "      <td>NONE</td>\n",
       "      <td>March 17, 2020 - n. 18 converted with amendmen...</td>\n",
       "    </tr>\n",
       "    <tr>\n",
       "      <th>13</th>\n",
       "      <td>13</td>\n",
       "      <td>008_IT_2020-03-25_2022-05-13_14:45:34.4.txt</td>\n",
       "      <td>NONE</td>\n",
       "      <td>Art.</td>\n",
       "    </tr>\n",
       "    <tr>\n",
       "      <th>...</th>\n",
       "      <td>...</td>\n",
       "      <td>...</td>\n",
       "      <td>...</td>\n",
       "      <td>...</td>\n",
       "    </tr>\n",
       "    <tr>\n",
       "      <th>2377</th>\n",
       "      <td>2377</td>\n",
       "      <td>024_ES_2020-05-06_2022-05-07_11:58:27.8.txt</td>\n",
       "      <td>FINANCIAL POLICY: GUARANTEES</td>\n",
       "      <td>CERSA will inform the Ministry of Economic Aff...</td>\n",
       "    </tr>\n",
       "    <tr>\n",
       "      <th>2380</th>\n",
       "      <td>2380</td>\n",
       "      <td>024_ES_2020-05-06_2022-05-07_11:58:27.8.txt</td>\n",
       "      <td>NONE</td>\n",
       "      <td>State Aid State Aid.</td>\n",
       "    </tr>\n",
       "    <tr>\n",
       "      <th>2381</th>\n",
       "      <td>2381</td>\n",
       "      <td>024_ES_2020-05-06_2022-05-07_11:58:27.8.txt</td>\n",
       "      <td>NONE</td>\n",
       "      <td>The line is subject to the regulations on Stat...</td>\n",
       "    </tr>\n",
       "    <tr>\n",
       "      <th>2383</th>\n",
       "      <td>2383</td>\n",
       "      <td>024_ES_2020-05-06_2022-05-07_11:58:27.8.txt</td>\n",
       "      <td>FINANCIAL POLICY: GUARANTEES</td>\n",
       "      <td>The limits authorized in annex II of the Agree...</td>\n",
       "    </tr>\n",
       "    <tr>\n",
       "      <th>2385</th>\n",
       "      <td>2385</td>\n",
       "      <td>024_ES_2020-05-06_2022-05-07_11:58:27.8.txt</td>\n",
       "      <td>FINANCIAL POLICY: RESTRUCTURING OF LOAN TERMS</td>\n",
       "      <td>ICO may contract or extend existing contracts ...</td>\n",
       "    </tr>\n",
       "  </tbody>\n",
       "</table>\n",
       "<p>1186 rows × 4 columns</p>\n",
       "</div>"
      ],
      "text/plain": [
       "      Unnamed: 0                                     Filename  \\\n",
       "1              1  008_IT_2020-03-25_2022-05-13_14:45:34.4.txt   \n",
       "6              6  008_IT_2020-03-25_2022-05-13_14:45:34.4.txt   \n",
       "7              7  008_IT_2020-03-25_2022-05-13_14:45:34.4.txt   \n",
       "11            11  008_IT_2020-03-25_2022-05-13_14:45:34.4.txt   \n",
       "13            13  008_IT_2020-03-25_2022-05-13_14:45:34.4.txt   \n",
       "...          ...                                          ...   \n",
       "2377        2377  024_ES_2020-05-06_2022-05-07_11:58:27.8.txt   \n",
       "2380        2380  024_ES_2020-05-06_2022-05-07_11:58:27.8.txt   \n",
       "2381        2381  024_ES_2020-05-06_2022-05-07_11:58:27.8.txt   \n",
       "2383        2383  024_ES_2020-05-06_2022-05-07_11:58:27.8.txt   \n",
       "2385        2385  024_ES_2020-05-06_2022-05-07_11:58:27.8.txt   \n",
       "\n",
       "                                              Label  \\\n",
       "1                                              NONE   \n",
       "6                                              NONE   \n",
       "7                                              NONE   \n",
       "11                                             NONE   \n",
       "13                                             NONE   \n",
       "...                                             ...   \n",
       "2377                   FINANCIAL POLICY: GUARANTEES   \n",
       "2380                                           NONE   \n",
       "2381                                           NONE   \n",
       "2383                   FINANCIAL POLICY: GUARANTEES   \n",
       "2385  FINANCIAL POLICY: RESTRUCTURING OF LOAN TERMS   \n",
       "\n",
       "                                               Sentence  \n",
       "1     \"(20G00035) In force on: 04-14-2022 THE PRESID...  \n",
       "6     Persons with motor disabilities or with autism...  \n",
       "7     hh-bis) obligation to always have respiratory ...  \n",
       "11    March 17, 2020 - n. 18 converted with amendmen...  \n",
       "13                                                 Art.  \n",
       "...                                                 ...  \n",
       "2377  CERSA will inform the Ministry of Economic Aff...  \n",
       "2380                               State Aid State Aid.  \n",
       "2381  The line is subject to the regulations on Stat...  \n",
       "2383  The limits authorized in annex II of the Agree...  \n",
       "2385  ICO may contract or extend existing contracts ...  \n",
       "\n",
       "[1186 rows x 4 columns]"
      ]
     },
     "execution_count": 110,
     "metadata": {},
     "output_type": "execute_result"
    }
   ],
   "source": [
    "df"
   ]
  },
  {
   "cell_type": "code",
   "execution_count": 112,
   "metadata": {},
   "outputs": [],
   "source": [
    "df = df.head(700)\n"
   ]
  },
  {
   "cell_type": "code",
   "execution_count": 116,
   "metadata": {},
   "outputs": [],
   "source": [
    "df = pd.concat([df_train, df, df]).drop_duplicates(keep=False)"
   ]
  },
  {
   "cell_type": "code",
   "execution_count": 117,
   "metadata": {},
   "outputs": [
    {
     "data": {
      "text/html": [
       "<div>\n",
       "<style scoped>\n",
       "    .dataframe tbody tr th:only-of-type {\n",
       "        vertical-align: middle;\n",
       "    }\n",
       "\n",
       "    .dataframe tbody tr th {\n",
       "        vertical-align: top;\n",
       "    }\n",
       "\n",
       "    .dataframe thead th {\n",
       "        text-align: right;\n",
       "    }\n",
       "</style>\n",
       "<table border=\"1\" class=\"dataframe\">\n",
       "  <thead>\n",
       "    <tr style=\"text-align: right;\">\n",
       "      <th></th>\n",
       "      <th>Unnamed: 0</th>\n",
       "      <th>Filename</th>\n",
       "      <th>Label</th>\n",
       "      <th>Sentence</th>\n",
       "    </tr>\n",
       "  </thead>\n",
       "  <tbody>\n",
       "    <tr>\n",
       "      <th>1</th>\n",
       "      <td>1</td>\n",
       "      <td>008_IT_2020-03-25_2022-05-13_14:45:34.4.txt</td>\n",
       "      <td>NONE</td>\n",
       "      <td>\"(20G00035) In force on: 04-14-2022 THE PRESID...</td>\n",
       "    </tr>\n",
       "    <tr>\n",
       "      <th>6</th>\n",
       "      <td>6</td>\n",
       "      <td>008_IT_2020-03-25_2022-05-13_14:45:34.4.txt</td>\n",
       "      <td>NONE</td>\n",
       "      <td>Persons with motor disabilities or with autism...</td>\n",
       "    </tr>\n",
       "    <tr>\n",
       "      <th>7</th>\n",
       "      <td>7</td>\n",
       "      <td>008_IT_2020-03-25_2022-05-13_14:45:34.4.txt</td>\n",
       "      <td>NONE</td>\n",
       "      <td>hh-bis) obligation to always have respiratory ...</td>\n",
       "    </tr>\n",
       "    <tr>\n",
       "      <th>11</th>\n",
       "      <td>11</td>\n",
       "      <td>008_IT_2020-03-25_2022-05-13_14:45:34.4.txt</td>\n",
       "      <td>NONE</td>\n",
       "      <td>March 17, 2020 - n. 18 converted with amendmen...</td>\n",
       "    </tr>\n",
       "    <tr>\n",
       "      <th>13</th>\n",
       "      <td>13</td>\n",
       "      <td>008_IT_2020-03-25_2022-05-13_14:45:34.4.txt</td>\n",
       "      <td>NONE</td>\n",
       "      <td>Art.</td>\n",
       "    </tr>\n",
       "    <tr>\n",
       "      <th>...</th>\n",
       "      <td>...</td>\n",
       "      <td>...</td>\n",
       "      <td>...</td>\n",
       "      <td>...</td>\n",
       "    </tr>\n",
       "    <tr>\n",
       "      <th>1379</th>\n",
       "      <td>1379</td>\n",
       "      <td>022_ES_2020-05-01a_2022-05-07_18:22:46.0.txt</td>\n",
       "      <td>EMPLOYMENT POLICY</td>\n",
       "      <td>c) Having ceased involuntarily - as of March 1...</td>\n",
       "    </tr>\n",
       "    <tr>\n",
       "      <th>1380</th>\n",
       "      <td>1380</td>\n",
       "      <td>022_ES_2020-05-01a_2022-05-07_18:22:46.0.txt</td>\n",
       "      <td>EMPLOYMENT POLICY</td>\n",
       "      <td>'d) Not being self-employed or employed full-t...</td>\n",
       "    </tr>\n",
       "    <tr>\n",
       "      <th>1382</th>\n",
       "      <td>1382</td>\n",
       "      <td>022_ES_2020-05-01a_2022-05-07_18:22:46.0.txt</td>\n",
       "      <td>EMPLOYMENT POLICY</td>\n",
       "      <td>In the event that the worker meets the aforeme...</td>\n",
       "    </tr>\n",
       "    <tr>\n",
       "      <th>1384</th>\n",
       "      <td>1384</td>\n",
       "      <td>022_ES_2020-05-01a_2022-05-07_18:22:46.0.txt</td>\n",
       "      <td>NONE</td>\n",
       "      <td>In the face of the denial resolution, a prior ...</td>\n",
       "    </tr>\n",
       "    <tr>\n",
       "      <th>1385</th>\n",
       "      <td>1385</td>\n",
       "      <td>022_ES_2020-05-01a_2022-05-07_18:22:46.0.txt</td>\n",
       "      <td>NONE</td>\n",
       "      <td>Third.</td>\n",
       "    </tr>\n",
       "  </tbody>\n",
       "</table>\n",
       "<p>700 rows × 4 columns</p>\n",
       "</div>"
      ],
      "text/plain": [
       "      Unnamed: 0                                      Filename  \\\n",
       "1              1   008_IT_2020-03-25_2022-05-13_14:45:34.4.txt   \n",
       "6              6   008_IT_2020-03-25_2022-05-13_14:45:34.4.txt   \n",
       "7              7   008_IT_2020-03-25_2022-05-13_14:45:34.4.txt   \n",
       "11            11   008_IT_2020-03-25_2022-05-13_14:45:34.4.txt   \n",
       "13            13   008_IT_2020-03-25_2022-05-13_14:45:34.4.txt   \n",
       "...          ...                                           ...   \n",
       "1379        1379  022_ES_2020-05-01a_2022-05-07_18:22:46.0.txt   \n",
       "1380        1380  022_ES_2020-05-01a_2022-05-07_18:22:46.0.txt   \n",
       "1382        1382  022_ES_2020-05-01a_2022-05-07_18:22:46.0.txt   \n",
       "1384        1384  022_ES_2020-05-01a_2022-05-07_18:22:46.0.txt   \n",
       "1385        1385  022_ES_2020-05-01a_2022-05-07_18:22:46.0.txt   \n",
       "\n",
       "                  Label                                           Sentence  \n",
       "1                  NONE  \"(20G00035) In force on: 04-14-2022 THE PRESID...  \n",
       "6                  NONE  Persons with motor disabilities or with autism...  \n",
       "7                  NONE  hh-bis) obligation to always have respiratory ...  \n",
       "11                 NONE  March 17, 2020 - n. 18 converted with amendmen...  \n",
       "13                 NONE                                               Art.  \n",
       "...                 ...                                                ...  \n",
       "1379  EMPLOYMENT POLICY  c) Having ceased involuntarily - as of March 1...  \n",
       "1380  EMPLOYMENT POLICY  'd) Not being self-employed or employed full-t...  \n",
       "1382  EMPLOYMENT POLICY  In the event that the worker meets the aforeme...  \n",
       "1384               NONE  In the face of the denial resolution, a prior ...  \n",
       "1385               NONE                                             Third.  \n",
       "\n",
       "[700 rows x 4 columns]"
      ]
     },
     "execution_count": 117,
     "metadata": {},
     "output_type": "execute_result"
    }
   ],
   "source": [
    "df"
   ]
  },
  {
   "cell_type": "code",
   "execution_count": null,
   "metadata": {},
   "outputs": [],
   "source": [
    "grouped.get_group(['name1', 'name2'])"
   ]
  },
  {
   "cell_type": "code",
   "execution_count": 115,
   "metadata": {},
   "outputs": [
    {
     "data": {
      "text/html": [
       "<div>\n",
       "<style scoped>\n",
       "    .dataframe tbody tr th:only-of-type {\n",
       "        vertical-align: middle;\n",
       "    }\n",
       "\n",
       "    .dataframe tbody tr th {\n",
       "        vertical-align: top;\n",
       "    }\n",
       "\n",
       "    .dataframe thead th {\n",
       "        text-align: right;\n",
       "    }\n",
       "</style>\n",
       "<table border=\"1\" class=\"dataframe\">\n",
       "  <thead>\n",
       "    <tr style=\"text-align: right;\">\n",
       "      <th></th>\n",
       "      <th>Unnamed: 0</th>\n",
       "      <th>Filename</th>\n",
       "      <th>Label</th>\n",
       "      <th>Sentence</th>\n",
       "    </tr>\n",
       "  </thead>\n",
       "  <tbody>\n",
       "    <tr>\n",
       "      <th>0</th>\n",
       "      <td>0</td>\n",
       "      <td>008_IT_2020-03-25_2022-05-13_14:45:34.4.txt</td>\n",
       "      <td>NONE</td>\n",
       "      <td>DECREE-LAW 25 March 2020 - n. 19 Urgent measur...</td>\n",
       "    </tr>\n",
       "    <tr>\n",
       "      <th>1</th>\n",
       "      <td>1</td>\n",
       "      <td>008_IT_2020-03-25_2022-05-13_14:45:34.4.txt</td>\n",
       "      <td>NONE</td>\n",
       "      <td>\"(20G00035) In force on: 04-14-2022 THE PRESID...</td>\n",
       "    </tr>\n",
       "    <tr>\n",
       "      <th>2</th>\n",
       "      <td>2</td>\n",
       "      <td>008_IT_2020-03-25_2022-05-13_14:45:34.4.txt</td>\n",
       "      <td>NONE</td>\n",
       "      <td>1 Urgent measures to avoid the spread of COVID...</td>\n",
       "    </tr>\n",
       "    <tr>\n",
       "      <th>3</th>\n",
       "      <td>3</td>\n",
       "      <td>008_IT_2020-03-25_2022-05-13_14:45:34.4.txt</td>\n",
       "      <td>NONE</td>\n",
       "      <td>To contain and combat the health risks derivin...</td>\n",
       "    </tr>\n",
       "    <tr>\n",
       "      <th>4</th>\n",
       "      <td>4</td>\n",
       "      <td>008_IT_2020-03-25_2022-05-13_14:45:34.4.txt</td>\n",
       "      <td>NONE</td>\n",
       "      <td>2.</td>\n",
       "    </tr>\n",
       "    <tr>\n",
       "      <th>...</th>\n",
       "      <td>...</td>\n",
       "      <td>...</td>\n",
       "      <td>...</td>\n",
       "      <td>...</td>\n",
       "    </tr>\n",
       "    <tr>\n",
       "      <th>2381</th>\n",
       "      <td>2381</td>\n",
       "      <td>024_ES_2020-05-06_2022-05-07_11:58:27.8.txt</td>\n",
       "      <td>NONE</td>\n",
       "      <td>The line is subject to the regulations on Stat...</td>\n",
       "    </tr>\n",
       "    <tr>\n",
       "      <th>2382</th>\n",
       "      <td>2382</td>\n",
       "      <td>024_ES_2020-05-06_2022-05-07_11:58:27.8.txt</td>\n",
       "      <td>NONE</td>\n",
       "      <td>ANNEX IV First.</td>\n",
       "    </tr>\n",
       "    <tr>\n",
       "      <th>2383</th>\n",
       "      <td>2383</td>\n",
       "      <td>024_ES_2020-05-06_2022-05-07_11:58:27.8.txt</td>\n",
       "      <td>FINANCIAL POLICY: GUARANTEES</td>\n",
       "      <td>The limits authorized in annex II of the Agree...</td>\n",
       "    </tr>\n",
       "    <tr>\n",
       "      <th>2384</th>\n",
       "      <td>2384</td>\n",
       "      <td>024_ES_2020-05-06_2022-05-07_11:58:27.8.txt</td>\n",
       "      <td>NONE</td>\n",
       "      <td>Second.</td>\n",
       "    </tr>\n",
       "    <tr>\n",
       "      <th>2385</th>\n",
       "      <td>2385</td>\n",
       "      <td>024_ES_2020-05-06_2022-05-07_11:58:27.8.txt</td>\n",
       "      <td>FINANCIAL POLICY: RESTRUCTURING OF LOAN TERMS</td>\n",
       "      <td>ICO may contract or extend existing contracts ...</td>\n",
       "    </tr>\n",
       "  </tbody>\n",
       "</table>\n",
       "<p>2386 rows × 4 columns</p>\n",
       "</div>"
      ],
      "text/plain": [
       "      Unnamed: 0                                     Filename  \\\n",
       "0              0  008_IT_2020-03-25_2022-05-13_14:45:34.4.txt   \n",
       "1              1  008_IT_2020-03-25_2022-05-13_14:45:34.4.txt   \n",
       "2              2  008_IT_2020-03-25_2022-05-13_14:45:34.4.txt   \n",
       "3              3  008_IT_2020-03-25_2022-05-13_14:45:34.4.txt   \n",
       "4              4  008_IT_2020-03-25_2022-05-13_14:45:34.4.txt   \n",
       "...          ...                                          ...   \n",
       "2381        2381  024_ES_2020-05-06_2022-05-07_11:58:27.8.txt   \n",
       "2382        2382  024_ES_2020-05-06_2022-05-07_11:58:27.8.txt   \n",
       "2383        2383  024_ES_2020-05-06_2022-05-07_11:58:27.8.txt   \n",
       "2384        2384  024_ES_2020-05-06_2022-05-07_11:58:27.8.txt   \n",
       "2385        2385  024_ES_2020-05-06_2022-05-07_11:58:27.8.txt   \n",
       "\n",
       "                                              Label  \\\n",
       "0                                              NONE   \n",
       "1                                              NONE   \n",
       "2                                              NONE   \n",
       "3                                              NONE   \n",
       "4                                              NONE   \n",
       "...                                             ...   \n",
       "2381                                           NONE   \n",
       "2382                                           NONE   \n",
       "2383                   FINANCIAL POLICY: GUARANTEES   \n",
       "2384                                           NONE   \n",
       "2385  FINANCIAL POLICY: RESTRUCTURING OF LOAN TERMS   \n",
       "\n",
       "                                               Sentence  \n",
       "0     DECREE-LAW 25 March 2020 - n. 19 Urgent measur...  \n",
       "1     \"(20G00035) In force on: 04-14-2022 THE PRESID...  \n",
       "2     1 Urgent measures to avoid the spread of COVID...  \n",
       "3     To contain and combat the health risks derivin...  \n",
       "4                                                    2.  \n",
       "...                                                 ...  \n",
       "2381  The line is subject to the regulations on Stat...  \n",
       "2382                                    ANNEX IV First.  \n",
       "2383  The limits authorized in annex II of the Agree...  \n",
       "2384                                            Second.  \n",
       "2385  ICO may contract or extend existing contracts ...  \n",
       "\n",
       "[2386 rows x 4 columns]"
      ]
     },
     "execution_count": 115,
     "metadata": {},
     "output_type": "execute_result"
    }
   ],
   "source": [
    "df_train"
   ]
  },
  {
   "cell_type": "code",
   "execution_count": null,
   "metadata": {},
   "outputs": [],
   "source": []
  },
  {
   "cell_type": "code",
   "execution_count": 91,
   "metadata": {},
   "outputs": [],
   "source": [
    "df_train = df.sample(1186)"
   ]
  },
  {
   "cell_type": "code",
   "execution_count": 92,
   "metadata": {},
   "outputs": [],
   "source": [
    "df_training = df_train.head(900)"
   ]
  },
  {
   "cell_type": "code",
   "execution_count": 93,
   "metadata": {},
   "outputs": [],
   "source": [
    "df_dev = df"
   ]
  },
  {
   "cell_type": "code",
   "execution_count": 94,
   "metadata": {},
   "outputs": [
    {
     "data": {
      "text/plain": [
       "900"
      ]
     },
     "execution_count": 94,
     "metadata": {},
     "output_type": "execute_result"
    }
   ],
   "source": [
    "len(df_training)"
   ]
  },
  {
   "cell_type": "code",
   "execution_count": 39,
   "metadata": {},
   "outputs": [
    {
     "data": {
      "text/plain": [
       "NONE                                             1341\n",
       "FINANCIAL POLICY: DIRECT PAYMENTS                 127\n",
       "FINANCIAL POLICY: GUARANTEES                      114\n",
       "EMPLOYMENT POLICY                                  87\n",
       "FISCAL POLICY                                      79\n",
       "SOCIAL WELFARE POLICY                              47\n",
       "FINANCIAL POLICY: RESTRUCTURING OF LOAN TERMS      45\n",
       "CONSUMER PROTECTION                                23\n",
       "PRICE CONTROL                                      19\n",
       "INDUSTRIAL POLICY                                   4\n",
       "Name: Label, dtype: int64"
      ]
     },
     "execution_count": 39,
     "metadata": {},
     "output_type": "execute_result"
    }
   ],
   "source": [
    "df_training['Label'].value_counts()"
   ]
  },
  {
   "cell_type": "code",
   "execution_count": 9,
   "metadata": {},
   "outputs": [],
   "source": [
    "kfold = KFold(n_splits = 10, shuffle = True, random_state = 100)"
   ]
  },
  {
   "cell_type": "code",
   "execution_count": 10,
   "metadata": {},
   "outputs": [
    {
     "name": "stdout",
     "output_type": "stream",
     "text": [
      "[  27   28   29   31   63   65   71   75  103  114  124  134  141  147\n",
      "  171  176  182  190  203  221  225  231  232  238  258  264  269  270\n",
      "  275  290  309  320  343  376  382  399  411  425  426  435  450  472\n",
      "  480  483  500  503  510  511  515  540  568  582  583  585  599  613\n",
      "  627  631  632  644  654  657  661  669  682  686  687  696  710  718\n",
      "  739  751  774  792  801  830  836  858  859  860  864  873  885  887\n",
      "  900  904  931  939  946  957  960  962  967  968  984  993  996 1011\n",
      " 1020 1042 1043 1049 1055 1058 1059 1073 1083 1089 1104 1119 1121 1125\n",
      " 1146 1153 1166 1180 1186 1191 1193 1198 1199 1216 1230 1272 1279 1280\n",
      " 1309 1313 1324 1327 1332 1335 1352 1361 1363 1366 1396 1398 1423 1428\n",
      " 1446 1447 1460 1462 1466 1492 1497 1514 1515 1527 1539 1545 1551 1570\n",
      " 1596 1622 1633 1645 1687 1713 1717 1730 1731 1736 1737 1740 1748 1759\n",
      " 1784 1789 1800 1805 1812 1816 1823 1825 1828 1832 1834 1866 1869 1873\n",
      " 1874 1906 1911 1956 1957 1970 1973 1975 1986 1989 1991 2007 2010 2018\n",
      " 2027 2039 2046 2047 2048 2061 2068 2073 2107 2115 2125 2138 2142 2157\n",
      " 2162 2165 2170 2192 2195 2201 2211 2217 2223 2238 2254 2256 2269 2271\n",
      " 2274 2275 2276 2277 2284 2289 2299 2306]\n",
      "[  23   30   44   48   54   57   84  106  107  118  152  168  173  177\n",
      "  189  208  223  244  247  249  250  257  259  277  289  301  316  322\n",
      "  331  336  341  342  345  353  355  356  362  368  371  384  385  403\n",
      "  405  408  415  416  423  433  438  440  459  463  474  487  490  493\n",
      "  526  533  534  536  548  552  561  569  571  589  591  595  610  616\n",
      "  624  642  646  648  652  704  708  723  725  729  730  733  742  747\n",
      "  771  785  789  837  841  842  843  880  881  891  899  901  903  912\n",
      "  913  917  932  943  950  973  977  980  999 1006 1013 1022 1023 1047\n",
      " 1064 1067 1086 1087 1092 1107 1111 1122 1126 1131 1135 1140 1160 1162\n",
      " 1181 1185 1197 1205 1225 1246 1249 1254 1260 1266 1267 1276 1277 1292\n",
      " 1297 1304 1308 1330 1342 1348 1356 1360 1364 1372 1384 1394 1400 1406\n",
      " 1417 1424 1442 1453 1479 1485 1576 1582 1590 1598 1606 1631 1637 1660\n",
      " 1662 1677 1692 1697 1709 1729 1733 1742 1743 1752 1754 1763 1770 1781\n",
      " 1809 1841 1870 1891 1915 1916 1928 1934 1937 1943 1945 1960 1963 1964\n",
      " 1971 1997 1999 2001 2004 2005 2029 2043 2053 2056 2057 2058 2077 2080\n",
      " 2083 2085 2093 2095 2105 2108 2121 2129 2130 2155 2159 2161 2168 2174\n",
      " 2175 2196 2210 2235 2270 2278 2280 2281]\n",
      "[   4   10   12   19   51   56   66   85   90   91   97  102  105  110\n",
      "  111  116  137  138  139  143  149  153  159  165  170  183  185  191\n",
      "  193  198  201  204  205  207  228  229  241  256  268  287  302  310\n",
      "  317  321  326  344  354  361  367  372  381  386  389  402  427  447\n",
      "  452  494  497  519  531  538  545  549  551  555  560  565  606  625\n",
      "  629  636  638  647  656  663  670  679  685  688  699  701  706  709\n",
      "  726  731  737  740  741  746  752  753  755  772  784  786  811  815\n",
      "  821  823  851  853  883  886  888  898  914  927  930  936  940  958\n",
      "  965  970  983  995 1005 1007 1012 1017 1025 1026 1036 1046 1048 1050\n",
      " 1052 1053 1054 1065 1088 1105 1117 1136 1142 1156 1187 1207 1224 1247\n",
      " 1283 1291 1293 1299 1371 1378 1389 1390 1414 1419 1426 1440 1441 1444\n",
      " 1449 1451 1455 1469 1480 1529 1530 1532 1538 1541 1553 1556 1558 1560\n",
      " 1577 1604 1612 1620 1629 1634 1642 1644 1654 1676 1689 1694 1702 1707\n",
      " 1711 1720 1745 1750 1756 1773 1779 1783 1790 1806 1808 1824 1856 1862\n",
      " 1909 1920 1953 1962 1966 1967 1982 1985 2011 2020 2025 2030 2033 2079\n",
      " 2090 2102 2117 2123 2133 2148 2167 2189 2199 2214 2216 2219 2225 2229\n",
      " 2232 2234 2243 2279 2294 2296 2297 2298]\n",
      "[   8    9   16   22   40   42   45   47   49   64   67   69   95   96\n",
      "  101  121  146  154  164  169  174  188  209  216  237  261  265  267\n",
      "  272  285  291  298  299  308  329  330  334  339  347  349  363  365\n",
      "  374  380  391  395  396  401  413  414  432  442  479  482  492  499\n",
      "  509  521  528  529  532  542  546  562  567  573  581  584  586  588\n",
      "  592  602  626  630  641  650  671  683  697  711  712  724  728  762\n",
      "  766  767  773  775  781  790  791  798  805  807  816  819  825  834\n",
      "  838  863  906  919  920  924  925  935  941  945  947  951  954  971\n",
      "  981 1016 1044 1076 1080 1115 1129 1143 1147 1149 1158 1165 1169 1174\n",
      " 1176 1184 1208 1231 1238 1240 1262 1264 1265 1270 1294 1312 1322 1325\n",
      " 1329 1338 1344 1345 1369 1375 1377 1381 1382 1399 1402 1407 1421 1429\n",
      " 1432 1465 1473 1483 1494 1500 1505 1511 1516 1520 1523 1536 1547 1554\n",
      " 1567 1568 1574 1575 1603 1610 1611 1617 1626 1630 1649 1655 1664 1666\n",
      " 1685 1696 1708 1724 1739 1744 1762 1766 1802 1811 1818 1833 1840 1844\n",
      " 1854 1855 1863 1884 1904 1917 1965 1995 2012 2014 2019 2042 2050 2065\n",
      " 2066 2067 2071 2118 2135 2145 2154 2164 2173 2180 2187 2188 2193 2202\n",
      " 2221 2227 2231 2248 2252 2268 2292 2312]\n",
      "[  24   36   41   43   78   80   82   88   92  104  108  117  133  142\n",
      "  157  178  195  200  202  210  222  263  288  312  315  318  328  370\n",
      "  373  377  390  398  420  431  434  436  464  466  475  489  501  508\n",
      "  517  525  530  537  554  559  570  590  593  608  611  614  622  635\n",
      "  667  675  691  702  714  717  719  721  734  738  764  777  779  808\n",
      "  814  822  827  832  835  845  852  868  874  875  905  916  933  944\n",
      "  948  949  969  972  976  988 1001 1004 1010 1021 1029 1039 1068 1069\n",
      " 1070 1072 1085 1097 1112 1127 1128 1132 1133 1134 1139 1148 1151 1157\n",
      " 1161 1167 1188 1211 1212 1219 1222 1228 1229 1237 1243 1252 1263 1273\n",
      " 1286 1306 1314 1318 1323 1351 1370 1380 1383 1404 1408 1418 1434 1436\n",
      " 1439 1452 1456 1471 1495 1506 1508 1512 1517 1521 1535 1580 1584 1586\n",
      " 1587 1592 1639 1651 1653 1658 1661 1693 1700 1706 1710 1718 1723 1732\n",
      " 1735 1741 1746 1749 1753 1755 1775 1778 1792 1794 1795 1798 1804 1815\n",
      " 1819 1831 1849 1851 1857 1875 1881 1888 1897 1898 1902 1913 1931 1935\n",
      " 1940 1944 1946 1948 1952 1974 2009 2015 2034 2049 2052 2060 2062 2070\n",
      " 2074 2075 2076 2091 2104 2131 2140 2153 2178 2182 2184 2218 2228 2244\n",
      " 2245 2249 2264 2267 2302 2307 2309]\n",
      "[  25   32   50   60   61   68   72   74   81  122  125  126  136  155\n",
      "  156  160  163  166  167  179  192  196  213  218  219  220  224  239\n",
      "  254  266  279  286  296  306  314  325  360  387  404  417  424  430\n",
      "  444  445  454  457  461  467  504  516  520  522  527  557  558  574\n",
      "  576  577  580  619  621  637  645  680  692  695  713  722  732  757\n",
      "  769  770  820  824  856  857  865  869  876  877  882  890  892  893\n",
      "  896  902  908  910  911  929  953  964  975  979  982  991 1003 1014\n",
      " 1024 1027 1030 1035 1056 1060 1063 1075 1078 1093 1109 1130 1138 1159\n",
      " 1168 1170 1171 1173 1179 1182 1192 1202 1213 1215 1220 1223 1235 1241\n",
      " 1245 1251 1257 1268 1271 1282 1284 1290 1301 1302 1339 1349 1354 1359\n",
      " 1365 1387 1410 1431 1461 1463 1472 1487 1498 1503 1524 1533 1534 1542\n",
      " 1557 1561 1565 1566 1588 1614 1616 1623 1625 1638 1663 1668 1684 1699\n",
      " 1704 1714 1725 1757 1761 1780 1785 1786 1801 1820 1826 1846 1850 1861\n",
      " 1878 1879 1886 1893 1901 1919 1927 1936 1947 1958 1976 1977 1978 1994\n",
      " 1996 2032 2041 2081 2088 2092 2101 2112 2124 2126 2127 2141 2146 2149\n",
      " 2171 2176 2177 2179 2183 2185 2212 2213 2224 2230 2250 2251 2253 2259\n",
      " 2263 2286 2288 2295 2301 2308 2313]\n",
      "[  33   39   46   52   73   76   98   99  100  109  123  132  175  180\n",
      "  181  184  197  206  217  227  233  235  240  253  255  271  281  282\n",
      "  294  307  311  335  359  366  378  388  406  412  422  448  449  460\n",
      "  462  484  512  535  547  553  566  572  587  596  601  609  615  620\n",
      "  634  639  664  665  672  673  684  689  703  707  715  716  727  756\n",
      "  760  776  780  797  800  810  844  848  850  861  871  907  921  922\n",
      "  928  955  956  963  985  986  989 1002 1015 1031 1034 1037 1041 1045\n",
      " 1096 1098 1110 1124 1141 1144 1177 1183 1190 1195 1221 1226 1242 1250\n",
      " 1253 1255 1258 1259 1287 1288 1289 1295 1296 1300 1303 1311 1326 1337\n",
      " 1346 1353 1355 1386 1388 1391 1405 1416 1437 1448 1467 1474 1478 1482\n",
      " 1486 1490 1491 1504 1507 1513 1526 1528 1546 1552 1555 1562 1563 1573\n",
      " 1591 1601 1615 1632 1636 1647 1656 1665 1669 1674 1688 1690 1695 1698\n",
      " 1705 1727 1728 1734 1769 1771 1772 1782 1803 1807 1830 1847 1860 1864\n",
      " 1876 1877 1880 1887 1895 1925 1938 1942 1954 1984 1987 2000 2006 2013\n",
      " 2017 2021 2026 2035 2038 2044 2054 2055 2063 2064 2096 2100 2106 2109\n",
      " 2114 2132 2139 2156 2160 2181 2190 2197 2203 2205 2207 2222 2226 2246\n",
      " 2257 2258 2262 2291 2293 2304 2311]\n",
      "[   3   15   26   58   59   89   93   94  112  115  127  128  130  140\n",
      "  150  151  161  162  211  236  245  246  248  252  260  276  278  293\n",
      "  295  297  305  319  323  327  337  338  351  358  379  383  392  393\n",
      "  418  428  443  453  455  458  471  476  496  518  523  524  541  543\n",
      "  564  578  579  600  605  607  623  640  651  662  666  677  681  693\n",
      "  743  744  745  793  795  799  812  828  831  840  846  847  878  884\n",
      "  894  895  923  934  959  961  966  978  987  992 1033 1051 1061 1062\n",
      " 1066 1077 1079 1082 1084 1099 1102 1103 1123 1137 1150 1164 1172 1175\n",
      " 1178 1196 1204 1217 1218 1227 1232 1248 1261 1275 1278 1298 1305 1310\n",
      " 1331 1333 1334 1336 1341 1350 1358 1395 1397 1401 1403 1411 1415 1420\n",
      " 1443 1454 1457 1468 1470 1481 1489 1499 1518 1525 1537 1571 1572 1581\n",
      " 1589 1593 1594 1599 1600 1605 1607 1618 1621 1640 1641 1672 1675 1678\n",
      " 1683 1686 1715 1721 1726 1764 1767 1774 1776 1777 1788 1793 1796 1827\n",
      " 1836 1853 1867 1882 1883 1889 1896 1903 1910 1912 1941 1949 1950 1959\n",
      " 1969 1980 1983 1988 1993 2008 2016 2022 2028 2037 2078 2089 2098 2099\n",
      " 2110 2128 2147 2151 2152 2158 2166 2194 2198 2204 2206 2208 2209 2237\n",
      " 2239 2241 2242 2265 2287 2303 2305]\n",
      "[   0    1    5    6    7   14   18   20   21   34   35   37   55   62\n",
      "   70   77   86  113  120  129  158  186  187  194  199  230  242  251\n",
      "  284  292  300  332  333  340  348  352  369  375  397  400  410  419\n",
      "  421  441  456  469  470  478  481  485  486  491  498  505  507  513\n",
      "  539  544  563  575  594  598  603  604  633  649  658  676  678  690\n",
      "  698  700  720  735  748  749  750  759  761  778  787  794  817  826\n",
      "  849  854  855  866  867  879  918  926  937  942  952  974  990  997\n",
      " 1000 1008 1018 1019 1057 1071 1074 1090 1095 1108 1113 1114 1116 1120\n",
      " 1145 1152 1201 1203 1214 1233 1234 1244 1256 1269 1281 1285 1307 1317\n",
      " 1319 1321 1343 1347 1357 1362 1367 1374 1376 1379 1409 1412 1430 1433\n",
      " 1435 1445 1450 1458 1464 1475 1477 1488 1493 1496 1501 1502 1510 1519\n",
      " 1540 1543 1559 1564 1569 1579 1583 1585 1597 1624 1627 1643 1646 1657\n",
      " 1659 1670 1671 1680 1703 1712 1716 1722 1765 1787 1791 1799 1810 1837\n",
      " 1838 1839 1842 1848 1852 1865 1868 1871 1872 1892 1905 1914 1918 1921\n",
      " 1922 1923 1929 1933 1939 1955 1961 1979 1990 1992 2023 2024 2031 2036\n",
      " 2051 2069 2072 2094 2103 2119 2120 2136 2144 2163 2169 2172 2200 2233\n",
      " 2260 2261 2266 2272 2273 2283 2285]\n",
      "[   2   11   13   17   38   53   79   83   87  119  131  135  144  145\n",
      "  148  172  212  214  215  226  234  243  262  273  274  280  283  303\n",
      "  304  313  324  346  350  357  364  394  407  409  429  437  439  446\n",
      "  451  465  468  473  477  488  495  502  506  514  550  556  597  612\n",
      "  617  618  628  643  653  655  659  660  668  674  694  705  736  754\n",
      "  758  763  765  768  782  783  788  796  802  803  804  806  809  813\n",
      "  818  829  833  839  862  870  872  889  897  909  915  938  994  998\n",
      " 1009 1028 1032 1038 1040 1081 1091 1094 1100 1101 1106 1118 1154 1155\n",
      " 1163 1189 1194 1200 1206 1209 1210 1236 1239 1274 1315 1316 1320 1328\n",
      " 1340 1368 1373 1385 1392 1393 1413 1422 1425 1427 1438 1459 1476 1484\n",
      " 1509 1522 1531 1544 1548 1549 1550 1578 1595 1602 1608 1609 1613 1619\n",
      " 1628 1635 1648 1650 1652 1667 1673 1679 1681 1682 1691 1701 1719 1738\n",
      " 1747 1751 1758 1760 1768 1797 1813 1814 1817 1821 1822 1829 1835 1843\n",
      " 1845 1858 1859 1885 1890 1894 1899 1900 1907 1908 1924 1926 1930 1932\n",
      " 1951 1968 1972 1981 1998 2002 2003 2040 2045 2059 2082 2084 2086 2087\n",
      " 2097 2111 2113 2116 2122 2134 2137 2143 2150 2186 2191 2215 2220 2236\n",
      " 2240 2247 2255 2282 2290 2300 2310]\n"
     ]
    }
   ],
   "source": [
    "for train, test in kfold.split(df_train):\n",
    "    print(test)"
   ]
  },
  {
   "cell_type": "markdown",
   "metadata": {},
   "source": [
    "# 2) Using FeatureUnion() and Pipeline(), develop 3 different classifiers using as target classes the values for the coarse-grained labels"
   ]
  },
  {
   "cell_type": "code",
   "execution_count": 95,
   "metadata": {},
   "outputs": [],
   "source": [
    "labels = df_training['Label']"
   ]
  },
  {
   "cell_type": "code",
   "execution_count": 96,
   "metadata": {},
   "outputs": [],
   "source": [
    "sentences = df_training['Sentence']"
   ]
  },
  {
   "cell_type": "code",
   "execution_count": null,
   "metadata": {},
   "outputs": [],
   "source": []
  },
  {
   "cell_type": "code",
   "execution_count": 97,
   "metadata": {},
   "outputs": [],
   "source": [
    "sentences_dev = df_dev['Sentence']\n",
    "labels_dev = df_dev['Label']"
   ]
  },
  {
   "cell_type": "markdown",
   "metadata": {},
   "source": [
    "classifier 1"
   ]
  },
  {
   "cell_type": "code",
   "execution_count": 98,
   "metadata": {},
   "outputs": [],
   "source": [
    "vectorizer = FeatureUnion([\n",
    "    ('tfidf_word', TfidfVectorizer(ngram_range=(1, 2), lowercase=True, strip_accents='unicode', stop_words='english')),\n",
    "    ('tfidf_word2', TfidfVectorizer(analyzer='word', ngram_range=(1, 5), lowercase=True, strip_accents='unicode', stop_words='english')),\n",
    "    ('tfidf_char', TfidfVectorizer(analyzer='char', ngram_range=(1, 10), lowercase=True, strip_accents='unicode'))\n",
    "])"
   ]
  },
  {
   "cell_type": "code",
   "execution_count": 99,
   "metadata": {},
   "outputs": [],
   "source": [
    "clf = Pipeline([\n",
    "('vectorize', vectorizer),\n",
    "('classify',LinearSVC())\n",
    "])"
   ]
  },
  {
   "cell_type": "code",
   "execution_count": 100,
   "metadata": {},
   "outputs": [],
   "source": [
    "trained_model_1 = clf.fit(sentences, labels)"
   ]
  },
  {
   "cell_type": "code",
   "execution_count": 101,
   "metadata": {},
   "outputs": [],
   "source": [
    "test_prediction_1 = trained_model_1.predict(sentences_dev)"
   ]
  },
  {
   "cell_type": "code",
   "execution_count": 102,
   "metadata": {},
   "outputs": [
    {
     "name": "stdout",
     "output_type": "stream",
     "text": [
      "prediction on trained_model_1 (word trigram + char bi-gram)\n",
      "                                               precision    recall  f1-score   support\n",
      "\n",
      "                          CONSUMER PROTECTION       1.00      0.93      0.96        29\n",
      "                            EMPLOYMENT POLICY       0.92      0.96      0.94       114\n",
      "            FINANCIAL POLICY: DIRECT PAYMENTS       0.96      0.96      0.96       156\n",
      "                 FINANCIAL POLICY: GUARANTEES       0.95      0.97      0.96       148\n",
      "FINANCIAL POLICY: RESTRUCTURING OF LOAN TERMS       0.96      0.98      0.97        54\n",
      "                                FISCAL POLICY       0.95      0.99      0.97       104\n",
      "                            INDUSTRIAL POLICY       1.00      0.50      0.67         4\n",
      "                                         NONE       0.97      0.96      0.96       496\n",
      "                                PRICE CONTROL       1.00      0.96      0.98        25\n",
      "                        SOCIAL WELFARE POLICY       0.96      0.88      0.92        56\n",
      "\n",
      "                                     accuracy                           0.96      1186\n",
      "                                    macro avg       0.97      0.91      0.93      1186\n",
      "                                 weighted avg       0.96      0.96      0.96      1186\n",
      "\n"
     ]
    }
   ],
   "source": [
    "print(\"prediction on trained_model_1 (word trigram + char bi-gram)\")\n",
    "print(classification_report(labels_dev, test_prediction_1))"
   ]
  },
  {
   "cell_type": "markdown",
   "metadata": {},
   "source": [
    "Trained_model_1 has a weighted average F1 score of 0.56"
   ]
  },
  {
   "cell_type": "markdown",
   "metadata": {},
   "source": [
    "classifier 2"
   ]
  },
  {
   "cell_type": "code",
   "execution_count": 34,
   "metadata": {},
   "outputs": [],
   "source": [
    "vectorizer = FeatureUnion([\n",
    "    ('tfidf_word', TfidfVectorizer(stop_words='english')),\n",
    "    ('tfidf_char', TfidfVectorizer(analyzer='char', ngram_range=(3, 7)))\n",
    "])"
   ]
  },
  {
   "cell_type": "code",
   "execution_count": 35,
   "metadata": {},
   "outputs": [],
   "source": [
    "clf = Pipeline([\n",
    "('vectorize', vectorizer),\n",
    "('classify',LinearSVC())\n",
    "])"
   ]
  },
  {
   "cell_type": "code",
   "execution_count": 36,
   "metadata": {},
   "outputs": [],
   "source": [
    "trained_model_2 = clf.fit(sentences, labels)"
   ]
  },
  {
   "cell_type": "code",
   "execution_count": 37,
   "metadata": {},
   "outputs": [],
   "source": [
    "test_prediction_2 = trained_model_2.predict(sentences_dev)"
   ]
  },
  {
   "cell_type": "code",
   "execution_count": 38,
   "metadata": {},
   "outputs": [
    {
     "name": "stdout",
     "output_type": "stream",
     "text": [
      "prediction on trained_model_1 (word unigram + char ngram range 3-7)\n",
      "                                               precision    recall  f1-score   support\n",
      "\n",
      "                          CONSUMER PROTECTION       0.50      0.25      0.33         8\n",
      "                            EMPLOYMENT POLICY       0.83      0.83      0.83        24\n",
      "            FINANCIAL POLICY: DIRECT PAYMENTS       0.81      0.72      0.76        36\n",
      "                 FINANCIAL POLICY: GUARANTEES       0.73      0.73      0.73        33\n",
      "FINANCIAL POLICY: RESTRUCTURING OF LOAN TERMS       0.57      0.67      0.62         6\n",
      "                                FISCAL POLICY       0.84      0.76      0.80        21\n",
      "                            INDUSTRIAL POLICY       0.00      0.00      0.00         1\n",
      "                                         NONE       0.89      0.94      0.91       363\n",
      "                                PRICE CONTROL       1.00      0.50      0.67         8\n",
      "                        SOCIAL WELFARE POLICY       0.67      0.43      0.52        14\n",
      "\n",
      "                                     accuracy                           0.86       514\n",
      "                                    macro avg       0.68      0.58      0.62       514\n",
      "                                 weighted avg       0.85      0.86      0.85       514\n",
      "\n"
     ]
    },
    {
     "name": "stderr",
     "output_type": "stream",
     "text": [
      "C:\\Users\\alexa\\anaconda3\\lib\\site-packages\\sklearn\\metrics\\_classification.py:1318: UndefinedMetricWarning: Precision and F-score are ill-defined and being set to 0.0 in labels with no predicted samples. Use `zero_division` parameter to control this behavior.\n",
      "  _warn_prf(average, modifier, msg_start, len(result))\n",
      "C:\\Users\\alexa\\anaconda3\\lib\\site-packages\\sklearn\\metrics\\_classification.py:1318: UndefinedMetricWarning: Precision and F-score are ill-defined and being set to 0.0 in labels with no predicted samples. Use `zero_division` parameter to control this behavior.\n",
      "  _warn_prf(average, modifier, msg_start, len(result))\n",
      "C:\\Users\\alexa\\anaconda3\\lib\\site-packages\\sklearn\\metrics\\_classification.py:1318: UndefinedMetricWarning: Precision and F-score are ill-defined and being set to 0.0 in labels with no predicted samples. Use `zero_division` parameter to control this behavior.\n",
      "  _warn_prf(average, modifier, msg_start, len(result))\n"
     ]
    }
   ],
   "source": [
    "print(\"prediction on trained_model_1 (word unigram + char ngram range 3-7)\")\n",
    "print(classification_report(labels_dev, test_prediction_2))"
   ]
  },
  {
   "cell_type": "markdown",
   "metadata": {},
   "source": [
    "Trained_model_2 has a weighted average F1 score of 0.57"
   ]
  },
  {
   "cell_type": "markdown",
   "metadata": {},
   "source": [
    "Classifier 3"
   ]
  },
  {
   "cell_type": "code",
   "execution_count": 39,
   "metadata": {},
   "outputs": [],
   "source": [
    "vectorizer = FeatureUnion([\n",
    "    ('tfidf_word', CountVectorizer(ngram_range=(1, 3))),\n",
    "    ('tfidf_char', TfidfVectorizer(analyzer='char', ngram_range=(3, 7)))\n",
    "])"
   ]
  },
  {
   "cell_type": "code",
   "execution_count": 40,
   "metadata": {},
   "outputs": [],
   "source": [
    "clf = Pipeline([\n",
    "('vectorize', vectorizer),\n",
    "('classify',LinearSVC())\n",
    "])"
   ]
  },
  {
   "cell_type": "code",
   "execution_count": 42,
   "metadata": {},
   "outputs": [
    {
     "name": "stderr",
     "output_type": "stream",
     "text": [
      "C:\\Users\\alexa\\anaconda3\\lib\\site-packages\\sklearn\\svm\\_base.py:1206: ConvergenceWarning: Liblinear failed to converge, increase the number of iterations.\n",
      "  warnings.warn(\n"
     ]
    }
   ],
   "source": [
    "trained_model_3 = clf.fit(sentences, labels)"
   ]
  },
  {
   "cell_type": "code",
   "execution_count": 43,
   "metadata": {},
   "outputs": [],
   "source": [
    "test_prediction_3 = trained_model_3.predict(sentences_dev)"
   ]
  },
  {
   "cell_type": "code",
   "execution_count": 44,
   "metadata": {},
   "outputs": [
    {
     "name": "stdout",
     "output_type": "stream",
     "text": [
      "prediction on trained_model_1 (word trigram + char ngram range 3-7, exluding stopwords)\n",
      "                                               precision    recall  f1-score   support\n",
      "\n",
      "                          CONSUMER PROTECTION       1.00      0.12      0.22         8\n",
      "                            EMPLOYMENT POLICY       0.72      0.75      0.73        24\n",
      "            FINANCIAL POLICY: DIRECT PAYMENTS       0.78      0.58      0.67        36\n",
      "                 FINANCIAL POLICY: GUARANTEES       0.78      0.64      0.70        33\n",
      "FINANCIAL POLICY: RESTRUCTURING OF LOAN TERMS       0.60      0.50      0.55         6\n",
      "                                FISCAL POLICY       0.84      0.76      0.80        21\n",
      "                            INDUSTRIAL POLICY       0.00      0.00      0.00         1\n",
      "                                         NONE       0.87      0.95      0.91       363\n",
      "                                PRICE CONTROL       1.00      0.75      0.86         8\n",
      "                        SOCIAL WELFARE POLICY       1.00      0.36      0.53        14\n",
      "\n",
      "                                     accuracy                           0.85       514\n",
      "                                    macro avg       0.76      0.54      0.60       514\n",
      "                                 weighted avg       0.85      0.85      0.84       514\n",
      "\n"
     ]
    }
   ],
   "source": [
    "print(\"prediction on trained_model_1 (word trigram + char ngram range 3-7, exluding stopwords)\")\n",
    "print(classification_report(labels_dev, test_prediction_3))"
   ]
  },
  {
   "cell_type": "markdown",
   "metadata": {},
   "source": [
    "Trained_model_3 has a weighted average F1 score of 0.58"
   ]
  },
  {
   "cell_type": "markdown",
   "metadata": {},
   "source": [
    "From all the 3 models, trained_model_3 has the highest F1 score therefore performs the best. It is this model that will be applied to the SST test data."
   ]
  },
  {
   "cell_type": "code",
   "execution_count": 239,
   "metadata": {},
   "outputs": [],
   "source": [
    "df_test = pd.read_csv('C:/Users/alexa/Downloads/stsa.fine.test.converted.csv')"
   ]
  },
  {
   "cell_type": "code",
   "execution_count": 240,
   "metadata": {},
   "outputs": [
    {
     "data": {
      "text/html": [
       "<div>\n",
       "<style scoped>\n",
       "    .dataframe tbody tr th:only-of-type {\n",
       "        vertical-align: middle;\n",
       "    }\n",
       "\n",
       "    .dataframe tbody tr th {\n",
       "        vertical-align: top;\n",
       "    }\n",
       "\n",
       "    .dataframe thead th {\n",
       "        text-align: right;\n",
       "    }\n",
       "</style>\n",
       "<table border=\"1\" class=\"dataframe\">\n",
       "  <thead>\n",
       "    <tr style=\"text-align: right;\">\n",
       "      <th></th>\n",
       "      <th>label_fine_grained</th>\n",
       "      <th>label_coarse_grained</th>\n",
       "      <th>sentence</th>\n",
       "    </tr>\n",
       "  </thead>\n",
       "  <tbody>\n",
       "    <tr>\n",
       "      <th>0</th>\n",
       "      <td>1</td>\n",
       "      <td>-1</td>\n",
       "      <td>no movement , no yuks , not much of anything .</td>\n",
       "    </tr>\n",
       "    <tr>\n",
       "      <th>1</th>\n",
       "      <td>0</td>\n",
       "      <td>-1</td>\n",
       "      <td>a gob of drivel so sickly sweet , even the eag...</td>\n",
       "    </tr>\n",
       "    <tr>\n",
       "      <th>2</th>\n",
       "      <td>2</td>\n",
       "      <td>0</td>\n",
       "      <td>` how many more voyages can this limping but d...</td>\n",
       "    </tr>\n",
       "    <tr>\n",
       "      <th>3</th>\n",
       "      <td>2</td>\n",
       "      <td>0</td>\n",
       "      <td>so relentlessly wholesome it made me want to s...</td>\n",
       "    </tr>\n",
       "    <tr>\n",
       "      <th>4</th>\n",
       "      <td>0</td>\n",
       "      <td>-1</td>\n",
       "      <td>gangs of new york is an unapologetic mess , wh...</td>\n",
       "    </tr>\n",
       "    <tr>\n",
       "      <th>...</th>\n",
       "      <td>...</td>\n",
       "      <td>...</td>\n",
       "      <td>...</td>\n",
       "    </tr>\n",
       "    <tr>\n",
       "      <th>2205</th>\n",
       "      <td>1</td>\n",
       "      <td>-1</td>\n",
       "      <td>the problem with concept films is that if the ...</td>\n",
       "    </tr>\n",
       "    <tr>\n",
       "      <th>2206</th>\n",
       "      <td>1</td>\n",
       "      <td>-1</td>\n",
       "      <td>safe conduct , however ambitious and well-inte...</td>\n",
       "    </tr>\n",
       "    <tr>\n",
       "      <th>2207</th>\n",
       "      <td>1</td>\n",
       "      <td>-1</td>\n",
       "      <td>a film made with as little wit , interest , an...</td>\n",
       "    </tr>\n",
       "    <tr>\n",
       "      <th>2208</th>\n",
       "      <td>2</td>\n",
       "      <td>0</td>\n",
       "      <td>to enjoy this movie 's sharp dialogue and deli...</td>\n",
       "    </tr>\n",
       "    <tr>\n",
       "      <th>2209</th>\n",
       "      <td>0</td>\n",
       "      <td>-1</td>\n",
       "      <td>but here 's the real damn : it is n't funny , ...</td>\n",
       "    </tr>\n",
       "  </tbody>\n",
       "</table>\n",
       "<p>2210 rows × 3 columns</p>\n",
       "</div>"
      ],
      "text/plain": [
       "      label_fine_grained  label_coarse_grained  \\\n",
       "0                      1                    -1   \n",
       "1                      0                    -1   \n",
       "2                      2                     0   \n",
       "3                      2                     0   \n",
       "4                      0                    -1   \n",
       "...                  ...                   ...   \n",
       "2205                   1                    -1   \n",
       "2206                   1                    -1   \n",
       "2207                   1                    -1   \n",
       "2208                   2                     0   \n",
       "2209                   0                    -1   \n",
       "\n",
       "                                               sentence  \n",
       "0        no movement , no yuks , not much of anything .  \n",
       "1     a gob of drivel so sickly sweet , even the eag...  \n",
       "2     ` how many more voyages can this limping but d...  \n",
       "3     so relentlessly wholesome it made me want to s...  \n",
       "4     gangs of new york is an unapologetic mess , wh...  \n",
       "...                                                 ...  \n",
       "2205  the problem with concept films is that if the ...  \n",
       "2206  safe conduct , however ambitious and well-inte...  \n",
       "2207  a film made with as little wit , interest , an...  \n",
       "2208  to enjoy this movie 's sharp dialogue and deli...  \n",
       "2209  but here 's the real damn : it is n't funny , ...  \n",
       "\n",
       "[2210 rows x 3 columns]"
      ]
     },
     "execution_count": 240,
     "metadata": {},
     "output_type": "execute_result"
    }
   ],
   "source": [
    "df_test"
   ]
  },
  {
   "cell_type": "code",
   "execution_count": 241,
   "metadata": {},
   "outputs": [],
   "source": [
    "sentences_test = df_test['sentence']\n",
    "labels_test = df_test['label_coarse_grained']"
   ]
  },
  {
   "cell_type": "code",
   "execution_count": 248,
   "metadata": {},
   "outputs": [],
   "source": [
    "test_prediction_4 = trained_model_3.predict(sentences_test)"
   ]
  },
  {
   "cell_type": "code",
   "execution_count": 250,
   "metadata": {},
   "outputs": [
    {
     "name": "stdout",
     "output_type": "stream",
     "text": [
      "              precision    recall  f1-score   support\n",
      "\n",
      "          -1       0.65      0.67      0.66       912\n",
      "           0       0.23      0.13      0.17       389\n",
      "           1       0.66      0.76      0.70       909\n",
      "\n",
      "    accuracy                           0.61      2210\n",
      "   macro avg       0.51      0.52      0.51      2210\n",
      "weighted avg       0.58      0.61      0.59      2210\n",
      "\n"
     ]
    }
   ],
   "source": [
    "print(classification_report(labels_test, test_prediction_4))"
   ]
  },
  {
   "cell_type": "markdown",
   "metadata": {},
   "source": [
    "The trained_model_3 applied to the SST test data reaches a F1 score of 0.59, similar to the F1 score on the dev data of 0.58, meaning that the model neither seems to overfit nor underfit the data. "
   ]
  },
  {
   "cell_type": "markdown",
   "metadata": {},
   "source": [
    "# 3) Apply your model to the DH_CollectingData2022_review.tsv. What is your performance? "
   ]
  },
  {
   "cell_type": "code",
   "execution_count": 253,
   "metadata": {},
   "outputs": [],
   "source": [
    "import csv"
   ]
  },
  {
   "cell_type": "code",
   "execution_count": 257,
   "metadata": {},
   "outputs": [],
   "source": [
    "df_review = pd.read_csv('C:/Users/alexa/Downloads/DH_CollectingData2022_review.tsv', sep='\\t', quoting=csv.QUOTE_NONE, names=['sentence', 'score'])"
   ]
  },
  {
   "cell_type": "code",
   "execution_count": 258,
   "metadata": {},
   "outputs": [
    {
     "data": {
      "text/html": [
       "<div>\n",
       "<style scoped>\n",
       "    .dataframe tbody tr th:only-of-type {\n",
       "        vertical-align: middle;\n",
       "    }\n",
       "\n",
       "    .dataframe tbody tr th {\n",
       "        vertical-align: top;\n",
       "    }\n",
       "\n",
       "    .dataframe thead th {\n",
       "        text-align: right;\n",
       "    }\n",
       "</style>\n",
       "<table border=\"1\" class=\"dataframe\">\n",
       "  <thead>\n",
       "    <tr style=\"text-align: right;\">\n",
       "      <th></th>\n",
       "      <th>sentence</th>\n",
       "      <th>score</th>\n",
       "    </tr>\n",
       "  </thead>\n",
       "  <tbody>\n",
       "    <tr>\n",
       "      <th>0</th>\n",
       "      <td>For Nik, he only wants to silence the cacophon...</td>\n",
       "      <td>0.0</td>\n",
       "    </tr>\n",
       "    <tr>\n",
       "      <th>1</th>\n",
       "      <td>\"I can play this two ways</td>\n",
       "      <td>0.0</td>\n",
       "    </tr>\n",
       "    <tr>\n",
       "      <th>2</th>\n",
       "      <td>Mild, because it isn't conclusive, and doesn't...</td>\n",
       "      <td>-1.0</td>\n",
       "    </tr>\n",
       "    <tr>\n",
       "      <th>3</th>\n",
       "      <td>You can also get some more information about t...</td>\n",
       "      <td>0.0</td>\n",
       "    </tr>\n",
       "    <tr>\n",
       "      <th>4</th>\n",
       "      <td>Soon, Hero, who has never had friends, is thru...</td>\n",
       "      <td>0.0</td>\n",
       "    </tr>\n",
       "    <tr>\n",
       "      <th>...</th>\n",
       "      <td>...</td>\n",
       "      <td>...</td>\n",
       "    </tr>\n",
       "    <tr>\n",
       "      <th>385</th>\n",
       "      <td>August is torn by his actions but he absolutel...</td>\n",
       "      <td>0.0</td>\n",
       "    </tr>\n",
       "    <tr>\n",
       "      <th>386</th>\n",
       "      <td>Heroine Elise Benton is witty in the present d...</td>\n",
       "      <td>0.0</td>\n",
       "    </tr>\n",
       "    <tr>\n",
       "      <th>387</th>\n",
       "      <td>I am glad there will be a part three</td>\n",
       "      <td>1.0</td>\n",
       "    </tr>\n",
       "    <tr>\n",
       "      <th>388</th>\n",
       "      <td>Sometimes while they were in a lesson, the wol...</td>\n",
       "      <td>0.0</td>\n",
       "    </tr>\n",
       "    <tr>\n",
       "      <th>389</th>\n",
       "      <td>I remained involved</td>\n",
       "      <td>1.0</td>\n",
       "    </tr>\n",
       "  </tbody>\n",
       "</table>\n",
       "<p>390 rows × 2 columns</p>\n",
       "</div>"
      ],
      "text/plain": [
       "                                              sentence  score\n",
       "0    For Nik, he only wants to silence the cacophon...    0.0\n",
       "1                            \"I can play this two ways    0.0\n",
       "2    Mild, because it isn't conclusive, and doesn't...   -1.0\n",
       "3    You can also get some more information about t...    0.0\n",
       "4    Soon, Hero, who has never had friends, is thru...    0.0\n",
       "..                                                 ...    ...\n",
       "385  August is torn by his actions but he absolutel...    0.0\n",
       "386  Heroine Elise Benton is witty in the present d...    0.0\n",
       "387               I am glad there will be a part three    1.0\n",
       "388  Sometimes while they were in a lesson, the wol...    0.0\n",
       "389                                I remained involved    1.0\n",
       "\n",
       "[390 rows x 2 columns]"
      ]
     },
     "execution_count": 258,
     "metadata": {},
     "output_type": "execute_result"
    }
   ],
   "source": [
    "df_review"
   ]
  },
  {
   "cell_type": "code",
   "execution_count": 275,
   "metadata": {},
   "outputs": [],
   "source": [
    "df_review['score'] = pd.to_numeric(df_review['score'], errors='coerce').fillna(0).astype(int)"
   ]
  },
  {
   "cell_type": "markdown",
   "metadata": {},
   "source": [
    "the lines in the score column were saved as float, with some NA or inf values. To solve this and to convert the values of the score column to int, i ran the line of code above. Source: https://stackoverflow.com/questions/71249167/pandas-errors-intcastingnanerror-cannot-convert-non-finite-values-na-or-inf-t"
   ]
  },
  {
   "cell_type": "code",
   "execution_count": 276,
   "metadata": {},
   "outputs": [],
   "source": [
    "sentence = df_review['sentence']\n",
    "score = df_review['score']"
   ]
  },
  {
   "cell_type": "code",
   "execution_count": 277,
   "metadata": {},
   "outputs": [
    {
     "data": {
      "text/plain": [
       "0      0\n",
       "1      0\n",
       "2     -1\n",
       "3      0\n",
       "4      0\n",
       "      ..\n",
       "385    0\n",
       "386    0\n",
       "387    1\n",
       "388    0\n",
       "389    1\n",
       "Name: score, Length: 390, dtype: int32"
      ]
     },
     "execution_count": 277,
     "metadata": {},
     "output_type": "execute_result"
    }
   ],
   "source": [
    "final_test = trained_model_3.predict(sentence)\n",
    "score"
   ]
  },
  {
   "cell_type": "code",
   "execution_count": 278,
   "metadata": {},
   "outputs": [
    {
     "name": "stdout",
     "output_type": "stream",
     "text": [
      "              precision    recall  f1-score   support\n",
      "\n",
      "          -1       0.26      0.66      0.38        62\n",
      "           0       0.37      0.11      0.18       148\n",
      "           1       0.62      0.66      0.64       180\n",
      "\n",
      "    accuracy                           0.45       390\n",
      "   macro avg       0.42      0.48      0.40       390\n",
      "weighted avg       0.47      0.45      0.42       390\n",
      "\n"
     ]
    }
   ],
   "source": [
    "print(classification_report(score, final_test))"
   ]
  },
  {
   "cell_type": "markdown",
   "metadata": {},
   "source": [
    "Trained_model_3 gives a weighted avg F1 score of just 0.42 when applied to the review data. This is not a great score. It has an accuracy score of 0.45, meaning that only in 45% of the cases the model predicted the scores correctly. In looking at recall, it may be observed that the model only returned a neutral score in 11% of the cases where the score should be neutral. Recall was far better (66%) on negative and positive scores. Looking at precision, it may be observed that the model only predicted 26% of all reviews labeled negative correctly, compared to 37 percent of neutral and 62% of positive. All in all, the model seems to perform relatively well on the prediction of scores of positive reviews, but needs further refinement to equally do so on neutral and negative reviews."
   ]
  },
  {
   "cell_type": "markdown",
   "metadata": {},
   "source": [
    "# 4) Save your best model using pickle. \n"
   ]
  },
  {
   "cell_type": "code",
   "execution_count": 279,
   "metadata": {},
   "outputs": [],
   "source": [
    "filename = 'SVM_Model_3.sav'\n",
    "pickle.dump(trained_model_3, open(filename, 'wb'))"
   ]
  }
 ],
 "metadata": {
  "kernelspec": {
   "display_name": "Python 3",
   "language": "python",
   "name": "python3"
  },
  "language_info": {
   "codemirror_mode": {
    "name": "ipython",
    "version": 3
   },
   "file_extension": ".py",
   "mimetype": "text/x-python",
   "name": "python",
   "nbconvert_exporter": "python",
   "pygments_lexer": "ipython3",
   "version": "3.8.8"
  }
 },
 "nbformat": 4,
 "nbformat_minor": 4
}
