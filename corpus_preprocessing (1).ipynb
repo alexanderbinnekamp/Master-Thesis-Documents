{
 "cells": [
  {
   "cell_type": "markdown",
   "id": "c0a250bc",
   "metadata": {},
   "source": [
    "Author: Alexander Binnekamp"
   ]
  },
  {
   "cell_type": "markdown",
   "id": "04021beb",
   "metadata": {},
   "source": [
    "1. Import relevant libraries"
   ]
  },
  {
   "cell_type": "code",
   "execution_count": 1,
   "id": "97d91565",
   "metadata": {},
   "outputs": [],
   "source": [
    "import glob\n",
    "from os.path import basename\n",
    "from nltk.tokenize import sent_tokenize, word_tokenize"
   ]
  },
  {
   "cell_type": "markdown",
   "id": "27aa74d4",
   "metadata": {},
   "source": [
    "2. Loops through folder and stores filepaths in a list variable"
   ]
  },
  {
   "cell_type": "code",
   "execution_count": 2,
   "id": "9784c6b1",
   "metadata": {},
   "outputs": [],
   "source": [
    "filepaths = []\n",
    "\n",
    "for name in glob.glob('C:/Users/alexa/OneDrive/Documenten/Thesis Lab/Legal Documents/IT_Original/*.txt'):\n",
    "    filepaths.append(name)"
   ]
  },
  {
   "cell_type": "markdown",
   "id": "5c52211a",
   "metadata": {},
   "source": [
    "3. Loops through list of filepaths, opens each file and stores the text in a new list variable"
   ]
  },
  {
   "cell_type": "code",
   "execution_count": 3,
   "id": "7fabd73d",
   "metadata": {},
   "outputs": [],
   "source": [
    "filetexts = []\n",
    "\n",
    "for f in filepaths:\n",
    "    with open(f, encoding='utf-8', errors='ignore') as f:\n",
    "        filetexts.append(f.read())"
   ]
  },
  {
   "cell_type": "markdown",
   "id": "cbe5df48",
   "metadata": {},
   "source": [
    "4. Defines a function that removes the pathway and saves only the filename"
   ]
  },
  {
   "cell_type": "code",
   "execution_count": 4,
   "id": "e3260551",
   "metadata": {},
   "outputs": [],
   "source": [
    "def remove_dir(filepath):\n",
    "    return basename(filepath)"
   ]
  },
  {
   "cell_type": "markdown",
   "id": "ad30e74d",
   "metadata": {},
   "source": [
    "5. Defines a function that automatically preprocesses a corpus of text documents. Because of the formatting of txt legal documents, 4 preprocessing steps are undertaken. Firstly, because of the abundance of newlines in txt legal documents and because of its potential negative impact on the tokenization of sentences, it replaces newlines by whitespace. Secondly, it replaces the komma by the minus sign. This is because the retaining of kommas can cause problems when saving the final results in a comma-seperated-values (CSV) file. Thirdly, it tokenizes the text on the basis of the nltk sent_tokenize function. Fourthly, in order to make manual annotation easier, it replaces the commas, by which sentences are split using the nltk sent_tokenize function, with a newline. This puts every sentence on a new line. It then writes the results into a new txt file, while retaining the original filename. "
   ]
  },
  {
   "cell_type": "code",
   "execution_count": 7,
   "id": "672a3a5a",
   "metadata": {
    "scrolled": true
   },
   "outputs": [],
   "source": [
    "def preprocessing(filetext, filepath):\n",
    "    filetext = filetext.replace('\\n',' ')\n",
    "    filetext = filetext.replace(',', '-')\n",
    "    filetext = str(sent_tokenize(filetext))\n",
    "    filetext = filetext.replace(',', ',\\n')\n",
    "    filename = remove_dir(filepath)\n",
    "    text_file = open(\"C:/Users/alexa/OneDrive/Documenten/Thesis Lab/Legal Documents/IT_Preprocessed/\" + filename, \"w\", errors='ignore', encoding='utf-8')\n",
    "    text_file.write(str(filetext))\n",
    "    text_file.close()\n",
    "    return "
   ]
  },
  {
   "cell_type": "markdown",
   "id": "f1eab9d5",
   "metadata": {},
   "source": [
    "6. To run the function you can run the code below."
   ]
  },
  {
   "cell_type": "code",
   "execution_count": 8,
   "id": "e2a6545b",
   "metadata": {},
   "outputs": [],
   "source": [
    "for f in range(len(filepaths)):\n",
    "    preprocessing(filetexts[f], filepaths[f])"
   ]
  }
 ],
 "metadata": {
  "kernelspec": {
   "display_name": "Python 3",
   "language": "python",
   "name": "python3"
  },
  "language_info": {
   "codemirror_mode": {
    "name": "ipython",
    "version": 3
   },
   "file_extension": ".py",
   "mimetype": "text/x-python",
   "name": "python",
   "nbconvert_exporter": "python",
   "pygments_lexer": "ipython3",
   "version": "3.8.8"
  }
 },
 "nbformat": 4,
 "nbformat_minor": 5
}
