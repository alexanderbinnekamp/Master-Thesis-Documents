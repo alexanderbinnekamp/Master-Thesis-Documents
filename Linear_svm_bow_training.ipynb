{
 "cells": [
  {
   "cell_type": "code",
   "execution_count": 1,
   "id": "27d2e4c3",
   "metadata": {},
   "outputs": [],
   "source": [
    "import pandas as pd\n",
    "from sklearn.feature_extraction.text import CountVectorizer, TfidfVectorizer\n",
    "from sklearn.svm import LinearSVC\n",
    "from sklearn.dummy import DummyClassifier\n",
    "from sklearn.metrics import accuracy_score, classification_report\n",
    "from sklearn.pipeline import Pipeline, FeatureUnion\n",
    "from nltk.corpus import stopwords\n",
    "import pickle\n",
    "import nltk\n",
    "from sklearn.model_selection import KFold,cross_val_score,train_test_split,cross_val_predict\n",
    "from sklearn import svm\n",
    "import numpy as np\n",
    "from nltk.corpus import stopwords\n",
    "from nltk.tokenize import word_tokenize"
   ]
  },
  {
   "cell_type": "code",
   "execution_count": 2,
   "id": "478efe44",
   "metadata": {},
   "outputs": [],
   "source": [
    "df = pd.read_excel('C:/Users/alexa/OneDrive/Documenten/Thesis Lab/dataset_final.xlsx')"
   ]
  },
  {
   "cell_type": "code",
   "execution_count": 3,
   "id": "a2038792",
   "metadata": {},
   "outputs": [
    {
     "data": {
      "text/html": [
       "<div>\n",
       "<style scoped>\n",
       "    .dataframe tbody tr th:only-of-type {\n",
       "        vertical-align: middle;\n",
       "    }\n",
       "\n",
       "    .dataframe tbody tr th {\n",
       "        vertical-align: top;\n",
       "    }\n",
       "\n",
       "    .dataframe thead th {\n",
       "        text-align: right;\n",
       "    }\n",
       "</style>\n",
       "<table border=\"1\" class=\"dataframe\">\n",
       "  <thead>\n",
       "    <tr style=\"text-align: right;\">\n",
       "      <th></th>\n",
       "      <th>Index</th>\n",
       "      <th>Filename</th>\n",
       "      <th>Countrycode</th>\n",
       "      <th>Label</th>\n",
       "      <th>Sentence_translated</th>\n",
       "      <th>Sentence_original</th>\n",
       "    </tr>\n",
       "  </thead>\n",
       "  <tbody>\n",
       "    <tr>\n",
       "      <th>0</th>\n",
       "      <td>0</td>\n",
       "      <td>011_DEU_2020-03-27c_2022-05-20_10:59:17.4.txt</td>\n",
       "      <td>DEU</td>\n",
       "      <td>NONE</td>\n",
       "      <td>Law on the Establishment of an Economic Stabil...</td>\n",
       "      <td>'Gesetz zur Errichtung eines Wirtschaftsstabil...</td>\n",
       "    </tr>\n",
       "    <tr>\n",
       "      <th>1</th>\n",
       "      <td>1</td>\n",
       "      <td>011_DEU_2020-03-27c_2022-05-20_10:59:17.4.txt</td>\n",
       "      <td>DEU</td>\n",
       "      <td>NONE</td>\n",
       "      <td>I p. 543 (no.</td>\n",
       "      <td>'I S. 543 (Nr.',</td>\n",
       "    </tr>\n",
       "    <tr>\n",
       "      <th>2</th>\n",
       "      <td>2</td>\n",
       "      <td>011_DEU_2020-03-27c_2022-05-20_10:59:17.4.txt</td>\n",
       "      <td>DEU</td>\n",
       "      <td>NONE</td>\n",
       "      <td>14); Valid from March 28th, 2020 4 changes | P...</td>\n",
       "      <td>'14); Geltung ab 28.03.2020 4 Änderungen | Dr...</td>\n",
       "    </tr>\n",
       "    <tr>\n",
       "      <th>3</th>\n",
       "      <td>3</td>\n",
       "      <td>011_DEU_2020-03-27c_2022-05-20_10:59:17.4.txt</td>\n",
       "      <td>DEU</td>\n",
       "      <td>NONE</td>\n",
       "      <td>28th</td>\n",
       "      <td>'28.',</td>\n",
       "    </tr>\n",
       "    <tr>\n",
       "      <th>4</th>\n",
       "      <td>4</td>\n",
       "      <td>011_DEU_2020-03-27c_2022-05-20_10:59:17.4.txt</td>\n",
       "      <td>DEU</td>\n",
       "      <td>NONE</td>\n",
       "      <td>March 2020 StFG § 6- § 8- § 10- § 14e- § 15- §...</td>\n",
       "      <td>'März 2020 StFG § 6- § 8- § 10- § 14e- § 15- ...</td>\n",
       "    </tr>\n",
       "    <tr>\n",
       "      <th>...</th>\n",
       "      <td>...</td>\n",
       "      <td>...</td>\n",
       "      <td>...</td>\n",
       "      <td>...</td>\n",
       "      <td>...</td>\n",
       "      <td>...</td>\n",
       "    </tr>\n",
       "    <tr>\n",
       "      <th>5445</th>\n",
       "      <td>5445</td>\n",
       "      <td>001_ES_2020-03-10_2022-05-07_11:57:05.0.txt</td>\n",
       "      <td>ESP</td>\n",
       "      <td>NONE</td>\n",
       "      <td>Second final provision.</td>\n",
       "      <td>'Disposición final segunda.',</td>\n",
       "    </tr>\n",
       "    <tr>\n",
       "      <th>5446</th>\n",
       "      <td>5446</td>\n",
       "      <td>001_ES_2020-03-10_2022-05-07_11:57:05.0.txt</td>\n",
       "      <td>ESP</td>\n",
       "      <td>NONE</td>\n",
       "      <td>Entry into force.</td>\n",
       "      <td>'Entrada en vigor.',</td>\n",
       "    </tr>\n",
       "    <tr>\n",
       "      <th>5447</th>\n",
       "      <td>5447</td>\n",
       "      <td>001_ES_2020-03-10_2022-05-07_11:57:05.0.txt</td>\n",
       "      <td>ESP</td>\n",
       "      <td>NONE</td>\n",
       "      <td>This royal decree-law will enter into force on...</td>\n",
       "      <td>'Este real decreto-ley entrará en vigor el dí...</td>\n",
       "    </tr>\n",
       "    <tr>\n",
       "      <th>5448</th>\n",
       "      <td>5448</td>\n",
       "      <td>001_ES_2020-03-10_2022-05-07_11:57:05.0.txt</td>\n",
       "      <td>ESP</td>\n",
       "      <td>NONE</td>\n",
       "      <td>Given in Madrid- on March 10, 2020.</td>\n",
       "      <td>'Dado en Madrid- el 10 de marzo de 2020.',</td>\n",
       "    </tr>\n",
       "    <tr>\n",
       "      <th>5449</th>\n",
       "      <td>5449</td>\n",
       "      <td>001_ES_2020-03-10_2022-05-07_11:57:05.0.txt</td>\n",
       "      <td>ESP</td>\n",
       "      <td>NONE</td>\n",
       "      <td>FELIPE R. The President of the Government- PED...</td>\n",
       "      <td>'FELIPE R.  El Presidente del Gobierno-  PEDR...</td>\n",
       "    </tr>\n",
       "  </tbody>\n",
       "</table>\n",
       "<p>5450 rows × 6 columns</p>\n",
       "</div>"
      ],
      "text/plain": [
       "      Index                                       Filename Countrycode Label  \\\n",
       "0         0  011_DEU_2020-03-27c_2022-05-20_10:59:17.4.txt         DEU  NONE   \n",
       "1         1  011_DEU_2020-03-27c_2022-05-20_10:59:17.4.txt         DEU  NONE   \n",
       "2         2  011_DEU_2020-03-27c_2022-05-20_10:59:17.4.txt         DEU  NONE   \n",
       "3         3  011_DEU_2020-03-27c_2022-05-20_10:59:17.4.txt         DEU  NONE   \n",
       "4         4  011_DEU_2020-03-27c_2022-05-20_10:59:17.4.txt         DEU  NONE   \n",
       "...     ...                                            ...         ...   ...   \n",
       "5445   5445    001_ES_2020-03-10_2022-05-07_11:57:05.0.txt         ESP  NONE   \n",
       "5446   5446    001_ES_2020-03-10_2022-05-07_11:57:05.0.txt         ESP  NONE   \n",
       "5447   5447    001_ES_2020-03-10_2022-05-07_11:57:05.0.txt         ESP  NONE   \n",
       "5448   5448    001_ES_2020-03-10_2022-05-07_11:57:05.0.txt         ESP  NONE   \n",
       "5449   5449    001_ES_2020-03-10_2022-05-07_11:57:05.0.txt         ESP  NONE   \n",
       "\n",
       "                                    Sentence_translated  \\\n",
       "0     Law on the Establishment of an Economic Stabil...   \n",
       "1                                         I p. 543 (no.   \n",
       "2     14); Valid from March 28th, 2020 4 changes | P...   \n",
       "3                                                  28th   \n",
       "4     March 2020 StFG § 6- § 8- § 10- § 14e- § 15- §...   \n",
       "...                                                 ...   \n",
       "5445                            Second final provision.   \n",
       "5446                                  Entry into force.   \n",
       "5447  This royal decree-law will enter into force on...   \n",
       "5448                Given in Madrid- on March 10, 2020.   \n",
       "5449  FELIPE R. The President of the Government- PED...   \n",
       "\n",
       "                                      Sentence_original  \n",
       "0     'Gesetz zur Errichtung eines Wirtschaftsstabil...  \n",
       "1                                      'I S. 543 (Nr.',  \n",
       "2      '14); Geltung ab 28.03.2020 4 Änderungen | Dr...  \n",
       "3                                                '28.',  \n",
       "4      'März 2020 StFG § 6- § 8- § 10- § 14e- § 15- ...  \n",
       "...                                                 ...  \n",
       "5445                      'Disposición final segunda.',  \n",
       "5446                               'Entrada en vigor.',  \n",
       "5447   'Este real decreto-ley entrará en vigor el dí...  \n",
       "5448         'Dado en Madrid- el 10 de marzo de 2020.',  \n",
       "5449   'FELIPE R.  El Presidente del Gobierno-  PEDR...  \n",
       "\n",
       "[5450 rows x 6 columns]"
      ]
     },
     "execution_count": 3,
     "metadata": {},
     "output_type": "execute_result"
    }
   ],
   "source": [
    "df"
   ]
  },
  {
   "cell_type": "markdown",
   "id": "60271598",
   "metadata": {},
   "source": [
    "# removal of stopwords (in case of multi-lingual model)"
   ]
  },
  {
   "cell_type": "code",
   "execution_count": 4,
   "id": "2a7614ca",
   "metadata": {},
   "outputs": [],
   "source": [
    "stops = set(stopwords.words('spanish'))\n",
    "stops_french = set(stopwords.words('french'))\n",
    "stops_italian = set(stopwords.words('italian'))\n",
    "stops_german = set(stopwords.words('german'))\n",
    "\n",
    "stops = stops.union(stops_french, stops_italian, stops_german)"
   ]
  },
  {
   "cell_type": "code",
   "execution_count": 5,
   "id": "f582e4d7",
   "metadata": {},
   "outputs": [],
   "source": [
    "df['Sentence_original'] = df['Sentence_original'].apply(word_tokenize)"
   ]
  },
  {
   "cell_type": "code",
   "execution_count": 6,
   "id": "83c2508e",
   "metadata": {},
   "outputs": [],
   "source": [
    "df['Sentence_original'] = df['Sentence_original'].apply(lambda words: [word.lower() for word in words if word not in stops])"
   ]
  },
  {
   "cell_type": "code",
   "execution_count": 7,
   "id": "62024ce8",
   "metadata": {},
   "outputs": [],
   "source": [
    "df['Sentence_original'] = df['Sentence_original'].apply(lambda x: ' '.join(map(str, x)))"
   ]
  },
  {
   "cell_type": "code",
   "execution_count": 8,
   "id": "496b7c89",
   "metadata": {},
   "outputs": [
    {
     "data": {
      "text/html": [
       "<div>\n",
       "<style scoped>\n",
       "    .dataframe tbody tr th:only-of-type {\n",
       "        vertical-align: middle;\n",
       "    }\n",
       "\n",
       "    .dataframe tbody tr th {\n",
       "        vertical-align: top;\n",
       "    }\n",
       "\n",
       "    .dataframe thead th {\n",
       "        text-align: right;\n",
       "    }\n",
       "</style>\n",
       "<table border=\"1\" class=\"dataframe\">\n",
       "  <thead>\n",
       "    <tr style=\"text-align: right;\">\n",
       "      <th></th>\n",
       "      <th>Index</th>\n",
       "      <th>Filename</th>\n",
       "      <th>Countrycode</th>\n",
       "      <th>Label</th>\n",
       "      <th>Sentence_translated</th>\n",
       "      <th>Sentence_original</th>\n",
       "    </tr>\n",
       "  </thead>\n",
       "  <tbody>\n",
       "    <tr>\n",
       "      <th>0</th>\n",
       "      <td>0</td>\n",
       "      <td>011_DEU_2020-03-27c_2022-05-20_10:59:17.4.txt</td>\n",
       "      <td>DEU</td>\n",
       "      <td>NONE</td>\n",
       "      <td>Law on the Establishment of an Economic Stabil...</td>\n",
       "      <td>'gesetz errichtung wirtschaftsstabilisierungsf...</td>\n",
       "    </tr>\n",
       "    <tr>\n",
       "      <th>1</th>\n",
       "      <td>1</td>\n",
       "      <td>011_DEU_2020-03-27c_2022-05-20_10:59:17.4.txt</td>\n",
       "      <td>DEU</td>\n",
       "      <td>NONE</td>\n",
       "      <td>I p. 543 (no.</td>\n",
       "      <td>' i s. 543 ( nr . ' ,</td>\n",
       "    </tr>\n",
       "    <tr>\n",
       "      <th>2</th>\n",
       "      <td>2</td>\n",
       "      <td>011_DEU_2020-03-27c_2022-05-20_10:59:17.4.txt</td>\n",
       "      <td>DEU</td>\n",
       "      <td>NONE</td>\n",
       "      <td>14); Valid from March 28th, 2020 4 changes | P...</td>\n",
       "      <td>'14 ) ; geltung ab 28.03.2020 4 änderungen | d...</td>\n",
       "    </tr>\n",
       "    <tr>\n",
       "      <th>3</th>\n",
       "      <td>3</td>\n",
       "      <td>011_DEU_2020-03-27c_2022-05-20_10:59:17.4.txt</td>\n",
       "      <td>DEU</td>\n",
       "      <td>NONE</td>\n",
       "      <td>28th</td>\n",
       "      <td>'28 . ' ,</td>\n",
       "    </tr>\n",
       "    <tr>\n",
       "      <th>4</th>\n",
       "      <td>4</td>\n",
       "      <td>011_DEU_2020-03-27c_2022-05-20_10:59:17.4.txt</td>\n",
       "      <td>DEU</td>\n",
       "      <td>NONE</td>\n",
       "      <td>March 2020 StFG § 6- § 8- § 10- § 14e- § 15- §...</td>\n",
       "      <td>'märz 2020 stfg § 6- § 8- § 10- § 14e- § 15- §...</td>\n",
       "    </tr>\n",
       "    <tr>\n",
       "      <th>...</th>\n",
       "      <td>...</td>\n",
       "      <td>...</td>\n",
       "      <td>...</td>\n",
       "      <td>...</td>\n",
       "      <td>...</td>\n",
       "      <td>...</td>\n",
       "    </tr>\n",
       "    <tr>\n",
       "      <th>5445</th>\n",
       "      <td>5445</td>\n",
       "      <td>001_ES_2020-03-10_2022-05-07_11:57:05.0.txt</td>\n",
       "      <td>ESP</td>\n",
       "      <td>NONE</td>\n",
       "      <td>Second final provision.</td>\n",
       "      <td>'disposición final segunda . ' ,</td>\n",
       "    </tr>\n",
       "    <tr>\n",
       "      <th>5446</th>\n",
       "      <td>5446</td>\n",
       "      <td>001_ES_2020-03-10_2022-05-07_11:57:05.0.txt</td>\n",
       "      <td>ESP</td>\n",
       "      <td>NONE</td>\n",
       "      <td>Entry into force.</td>\n",
       "      <td>'entrada vigor . ' ,</td>\n",
       "    </tr>\n",
       "    <tr>\n",
       "      <th>5447</th>\n",
       "      <td>5447</td>\n",
       "      <td>001_ES_2020-03-10_2022-05-07_11:57:05.0.txt</td>\n",
       "      <td>ESP</td>\n",
       "      <td>NONE</td>\n",
       "      <td>This royal decree-law will enter into force on...</td>\n",
       "      <td>'este real decreto-ley entrará vigor día sigui...</td>\n",
       "    </tr>\n",
       "    <tr>\n",
       "      <th>5448</th>\n",
       "      <td>5448</td>\n",
       "      <td>001_ES_2020-03-10_2022-05-07_11:57:05.0.txt</td>\n",
       "      <td>ESP</td>\n",
       "      <td>NONE</td>\n",
       "      <td>Given in Madrid- on March 10, 2020.</td>\n",
       "      <td>'dado madrid- 10 marzo 2020 . ' ,</td>\n",
       "    </tr>\n",
       "    <tr>\n",
       "      <th>5449</th>\n",
       "      <td>5449</td>\n",
       "      <td>001_ES_2020-03-10_2022-05-07_11:57:05.0.txt</td>\n",
       "      <td>ESP</td>\n",
       "      <td>NONE</td>\n",
       "      <td>FELIPE R. The President of the Government- PED...</td>\n",
       "      <td>'felipe r. el presidente gobierno- pedro sánch...</td>\n",
       "    </tr>\n",
       "  </tbody>\n",
       "</table>\n",
       "<p>5450 rows × 6 columns</p>\n",
       "</div>"
      ],
      "text/plain": [
       "      Index                                       Filename Countrycode Label  \\\n",
       "0         0  011_DEU_2020-03-27c_2022-05-20_10:59:17.4.txt         DEU  NONE   \n",
       "1         1  011_DEU_2020-03-27c_2022-05-20_10:59:17.4.txt         DEU  NONE   \n",
       "2         2  011_DEU_2020-03-27c_2022-05-20_10:59:17.4.txt         DEU  NONE   \n",
       "3         3  011_DEU_2020-03-27c_2022-05-20_10:59:17.4.txt         DEU  NONE   \n",
       "4         4  011_DEU_2020-03-27c_2022-05-20_10:59:17.4.txt         DEU  NONE   \n",
       "...     ...                                            ...         ...   ...   \n",
       "5445   5445    001_ES_2020-03-10_2022-05-07_11:57:05.0.txt         ESP  NONE   \n",
       "5446   5446    001_ES_2020-03-10_2022-05-07_11:57:05.0.txt         ESP  NONE   \n",
       "5447   5447    001_ES_2020-03-10_2022-05-07_11:57:05.0.txt         ESP  NONE   \n",
       "5448   5448    001_ES_2020-03-10_2022-05-07_11:57:05.0.txt         ESP  NONE   \n",
       "5449   5449    001_ES_2020-03-10_2022-05-07_11:57:05.0.txt         ESP  NONE   \n",
       "\n",
       "                                    Sentence_translated  \\\n",
       "0     Law on the Establishment of an Economic Stabil...   \n",
       "1                                         I p. 543 (no.   \n",
       "2     14); Valid from March 28th, 2020 4 changes | P...   \n",
       "3                                                  28th   \n",
       "4     March 2020 StFG § 6- § 8- § 10- § 14e- § 15- §...   \n",
       "...                                                 ...   \n",
       "5445                            Second final provision.   \n",
       "5446                                  Entry into force.   \n",
       "5447  This royal decree-law will enter into force on...   \n",
       "5448                Given in Madrid- on March 10, 2020.   \n",
       "5449  FELIPE R. The President of the Government- PED...   \n",
       "\n",
       "                                      Sentence_original  \n",
       "0     'gesetz errichtung wirtschaftsstabilisierungsf...  \n",
       "1                                 ' i s. 543 ( nr . ' ,  \n",
       "2     '14 ) ; geltung ab 28.03.2020 4 änderungen | d...  \n",
       "3                                             '28 . ' ,  \n",
       "4     'märz 2020 stfg § 6- § 8- § 10- § 14e- § 15- §...  \n",
       "...                                                 ...  \n",
       "5445                   'disposición final segunda . ' ,  \n",
       "5446                               'entrada vigor . ' ,  \n",
       "5447  'este real decreto-ley entrará vigor día sigui...  \n",
       "5448                  'dado madrid- 10 marzo 2020 . ' ,  \n",
       "5449  'felipe r. el presidente gobierno- pedro sánch...  \n",
       "\n",
       "[5450 rows x 6 columns]"
      ]
     },
     "execution_count": 8,
     "metadata": {},
     "output_type": "execute_result"
    }
   ],
   "source": [
    "df"
   ]
  },
  {
   "cell_type": "markdown",
   "id": "8273c571",
   "metadata": {},
   "source": [
    "# Majority Baseline"
   ]
  },
  {
   "cell_type": "code",
   "execution_count": 4,
   "id": "3beb2f56",
   "metadata": {},
   "outputs": [
    {
     "data": {
      "text/plain": [
       "5450"
      ]
     },
     "execution_count": 4,
     "metadata": {},
     "output_type": "execute_result"
    }
   ],
   "source": [
    "len(df['Label'])"
   ]
  },
  {
   "cell_type": "code",
   "execution_count": 23,
   "id": "5028b1af",
   "metadata": {},
   "outputs": [
    {
     "data": {
      "text/plain": [
       "NONE                                             4123\n",
       "FINANCIAL POLICY: DIRECT PAYMENTS                 387\n",
       "EMPLOYMENT POLICY                                 254\n",
       "FINANCIAL POLICY: GUARANTEES                      205\n",
       "FISCAL POLICY                                     188\n",
       "SOCIAL WELFARE POLICY                              99\n",
       "FINANCIAL POLICY: RESTRUCTURING OF LOAN TERMS      75\n",
       "CONSUMER PROTECTION                                48\n",
       "PRICE CONTROL                                      38\n",
       "INDUSTRIAL POLICY                                  33\n",
       "Name: Label, dtype: int64"
      ]
     },
     "execution_count": 23,
     "metadata": {},
     "output_type": "execute_result"
    }
   ],
   "source": [
    "df['Label'].value_counts()"
   ]
  },
  {
   "cell_type": "code",
   "execution_count": 5,
   "id": "28d70ee1",
   "metadata": {},
   "outputs": [
    {
     "data": {
      "text/plain": [
       "DummyClassifier(strategy='stratified')"
      ]
     },
     "execution_count": 5,
     "metadata": {},
     "output_type": "execute_result"
    }
   ],
   "source": [
    "dummy_clf = DummyClassifier(strategy=\"stratified\")\n",
    "dummy_clf.fit(df['Sentence_translated'], df['Label'])"
   ]
  },
  {
   "cell_type": "code",
   "execution_count": 6,
   "id": "6c80a50d",
   "metadata": {},
   "outputs": [
    {
     "data": {
      "text/plain": [
       "array(['NONE', 'FINANCIAL POLICY: DIRECT PAYMENTS', 'NONE', ..., 'NONE',\n",
       "       'NONE', 'NONE'], dtype=object)"
      ]
     },
     "execution_count": 6,
     "metadata": {},
     "output_type": "execute_result"
    }
   ],
   "source": [
    "dummy_clf.predict(df['Sentence_translated'])"
   ]
  },
  {
   "cell_type": "code",
   "execution_count": 7,
   "id": "ab724f5c",
   "metadata": {},
   "outputs": [
    {
     "data": {
      "text/plain": [
       "0.5897247706422019"
      ]
     },
     "execution_count": 7,
     "metadata": {},
     "output_type": "execute_result"
    }
   ],
   "source": [
    "dummy_clf.score(df['Sentence_translated'], df['Label'])"
   ]
  },
  {
   "cell_type": "markdown",
   "id": "80a8549b",
   "metadata": {},
   "source": [
    "# Training"
   ]
  },
  {
   "cell_type": "code",
   "execution_count": 43,
   "id": "ded12e7f",
   "metadata": {},
   "outputs": [],
   "source": [
    "X_train, X_test, y_train, y_test = train_test_split(df['Sentence_translated'], df['Label'], test_size=0.2, random_state=111)"
   ]
  },
  {
   "cell_type": "code",
   "execution_count": 44,
   "id": "02086e1d",
   "metadata": {},
   "outputs": [],
   "source": [
    "from sklearn.utils import compute_class_weight "
   ]
  },
  {
   "cell_type": "code",
   "execution_count": 45,
   "id": "6a44fee5",
   "metadata": {},
   "outputs": [
    {
     "data": {
      "text/plain": [
       "{'CONSUMER PROTECTION': 12.11111111111111,\n",
       " 'EMPLOYMENT POLICY': 2.2244897959183674,\n",
       " 'FINANCIAL POLICY: DIRECT PAYMENTS': 1.384126984126984,\n",
       " 'FINANCIAL POLICY: GUARANTEES': 2.759493670886076,\n",
       " 'FINANCIAL POLICY: RESTRUCTURING OF LOAN TERMS': 6.8125,\n",
       " 'FISCAL POLICY': 2.945945945945946,\n",
       " 'INDUSTRIAL POLICY': 16.14814814814815,\n",
       " 'NONE': 0.13188142770719904,\n",
       " 'PRICE CONTROL': 13.212121212121213,\n",
       " 'SOCIAL WELFARE POLICY': 5.662337662337662}"
      ]
     },
     "execution_count": 45,
     "metadata": {},
     "output_type": "execute_result"
    }
   ],
   "source": [
    "class_weights = compute_class_weight(\n",
    "                                        class_weight = 'balanced',\n",
    "                                        classes = np.unique(y_train),\n",
    "                                        y = y_train                                                    \n",
    "                                    )\n",
    "\n",
    "class_weights = dict(zip(np.unique(y_train), class_weights))\n",
    "\n",
    "class_weights"
   ]
  },
  {
   "cell_type": "code",
   "execution_count": 46,
   "id": "aef75d20",
   "metadata": {},
   "outputs": [],
   "source": [
    "vectorizer = FeatureUnion([\n",
    "    ('tfidf_word', TfidfVectorizer(ngram_range=(1, 2), strip_accents='unicode', lowercase=True, stop_words='english')),\n",
    "    ('tfidf_word2', TfidfVectorizer(analyzer='word', ngram_range=(1, 5), strip_accents='unicode', lowercase=True, stop_words='english')),\n",
    "    ('tfidf_char', TfidfVectorizer(analyzer='char', ngram_range=(1, 10), strip_accents='unicode', lowercase=True, stop_words='english'))\n",
    "])"
   ]
  },
  {
   "cell_type": "markdown",
   "id": "8c9b0910",
   "metadata": {},
   "source": [
    "parameter: class_weight='balanced'"
   ]
  },
  {
   "cell_type": "code",
   "execution_count": 47,
   "id": "9def52d1",
   "metadata": {},
   "outputs": [],
   "source": [
    "clf = Pipeline([\n",
    "('vectorize', vectorizer),\n",
    "('classify',LinearSVC(class_weight = 'balanced'))\n",
    "])"
   ]
  },
  {
   "cell_type": "code",
   "execution_count": 48,
   "id": "09acf141",
   "metadata": {},
   "outputs": [],
   "source": [
    "tfidf_bow_translated = clf.fit(X_train,y_train)"
   ]
  },
  {
   "cell_type": "code",
   "execution_count": 26,
   "id": "7f5e7381",
   "metadata": {},
   "outputs": [],
   "source": [
    "pickle.dump(tfidf_bow_translated, open('tfidf_bow_translated_weighted.pkl', 'wb'))"
   ]
  },
  {
   "cell_type": "code",
   "execution_count": 49,
   "id": "f775232e",
   "metadata": {},
   "outputs": [],
   "source": [
    "test_prediction_1 = tfidf_bow_translated.predict(X_test)"
   ]
  },
  {
   "cell_type": "code",
   "execution_count": 50,
   "id": "5006c92a",
   "metadata": {},
   "outputs": [
    {
     "name": "stdout",
     "output_type": "stream",
     "text": [
      "prediction on trained_model_1 (word trigram + char bi-gram)\n",
      "                                               precision    recall  f1-score   support\n",
      "\n",
      "                          CONSUMER PROTECTION       0.67      0.33      0.44        12\n",
      "                            EMPLOYMENT POLICY       0.73      0.79      0.76        58\n",
      "            FINANCIAL POLICY: DIRECT PAYMENTS       0.78      0.82      0.80        72\n",
      "                 FINANCIAL POLICY: GUARANTEES       0.80      0.83      0.81        47\n",
      "FINANCIAL POLICY: RESTRUCTURING OF LOAN TERMS       0.80      0.73      0.76        11\n",
      "                                FISCAL POLICY       0.80      0.88      0.83        40\n",
      "                            INDUSTRIAL POLICY       0.50      0.50      0.50         6\n",
      "                                         NONE       0.93      0.93      0.93       817\n",
      "                                PRICE CONTROL       0.80      0.80      0.80         5\n",
      "                        SOCIAL WELFARE POLICY       0.73      0.36      0.48        22\n",
      "\n",
      "                                     accuracy                           0.89      1090\n",
      "                                    macro avg       0.75      0.70      0.71      1090\n",
      "                                 weighted avg       0.89      0.89      0.89      1090\n",
      "\n"
     ]
    }
   ],
   "source": [
    "print(\"prediction on trained_model_1 (word trigram + char bi-gram)\")\n",
    "print(classification_report(y_test, test_prediction_1))"
   ]
  },
  {
   "cell_type": "markdown",
   "id": "4ba590fe",
   "metadata": {},
   "source": [
    "# Cross Validation on tfidfvectorizer"
   ]
  },
  {
   "cell_type": "markdown",
   "id": "983d1241",
   "metadata": {},
   "source": [
    "#1 Using English-translated Sentences"
   ]
  },
  {
   "cell_type": "code",
   "execution_count": 16,
   "id": "f024efd9",
   "metadata": {},
   "outputs": [],
   "source": [
    "X_train, X_test, y_train, y_test = train_test_split(df['Sentence_translated'], df['Label'], test_size=0.2, random_state=0)"
   ]
  },
  {
   "cell_type": "code",
   "execution_count": 23,
   "id": "b4937091",
   "metadata": {},
   "outputs": [],
   "source": [
    "from sklearn import metrics\n",
    "scores_f1 = cross_val_score(clf, X_train, y_train, cv=10, scoring='accuracy')"
   ]
  },
  {
   "cell_type": "code",
   "execution_count": 24,
   "id": "b8459b30",
   "metadata": {},
   "outputs": [
    {
     "name": "stdout",
     "output_type": "stream",
     "text": [
      "[0.86009174 0.89220183 0.91055046 0.89449541 0.88073394 0.86926606\n",
      " 0.88073394 0.8646789  0.8853211  0.91743119]\n"
     ]
    }
   ],
   "source": [
    "print(scores_f1)\n"
   ]
  },
  {
   "cell_type": "code",
   "execution_count": 25,
   "id": "1395d85e",
   "metadata": {},
   "outputs": [
    {
     "name": "stdout",
     "output_type": "stream",
     "text": [
      "0.8855504587155963\n"
     ]
    }
   ],
   "source": [
    "import statistics\n",
    "average = statistics.mean(scores_f1)\n",
    "print(average)"
   ]
  },
  {
   "cell_type": "markdown",
   "id": "c636af8e",
   "metadata": {},
   "source": [
    "#2 Using Multilingual Sentences"
   ]
  },
  {
   "cell_type": "code",
   "execution_count": 22,
   "id": "e7f72cd9",
   "metadata": {},
   "outputs": [],
   "source": [
    "X_train, X_test, y_train, y_test = train_test_split(df['Sentence_original'], df['Label'], test_size=0.2, random_state=0)"
   ]
  },
  {
   "cell_type": "code",
   "execution_count": 305,
   "id": "c42fa530",
   "metadata": {},
   "outputs": [],
   "source": [
    "from sklearn import metrics\n",
    "scores = cross_val_score(clf, X_train, y_train, cv=5, scoring='precision_macro')"
   ]
  },
  {
   "cell_type": "code",
   "execution_count": 306,
   "id": "bc356ab7",
   "metadata": {},
   "outputs": [
    {
     "name": "stdout",
     "output_type": "stream",
     "text": [
      "[0.69789183 0.82553114 0.78979432 0.75129831 0.7538534 ]\n"
     ]
    }
   ],
   "source": [
    "print(scores)"
   ]
  },
  {
   "cell_type": "code",
   "execution_count": 307,
   "id": "008e9f70",
   "metadata": {
    "scrolled": true
   },
   "outputs": [
    {
     "name": "stdout",
     "output_type": "stream",
     "text": [
      "0.7636737996441066\n"
     ]
    }
   ],
   "source": [
    "import statistics\n",
    "average = statistics.mean(scores)\n",
    "print(average)"
   ]
  },
  {
   "cell_type": "markdown",
   "id": "78c29e42",
   "metadata": {},
   "source": [
    "# Classification report combined with Cross Validation"
   ]
  },
  {
   "cell_type": "code",
   "execution_count": 28,
   "id": "ffc7c8a9",
   "metadata": {},
   "outputs": [],
   "source": [
    "from sklearn.metrics import classification_report, accuracy_score, make_scorer\n",
    "\n",
    "def classification_report_with_accuracy_score(y_true, y_pred):\n",
    "    print(classification_report(y_true, y_pred)) # print classification report\n",
    "    return accuracy_score(y_true, y_pred) # return accuracy score"
   ]
  },
  {
   "cell_type": "code",
   "execution_count": 30,
   "id": "0eb67a8f",
   "metadata": {},
   "outputs": [
    {
     "name": "stderr",
     "output_type": "stream",
     "text": [
      "C:\\Users\\alexa\\anaconda3\\lib\\site-packages\\sklearn\\metrics\\_classification.py:1327: UndefinedMetricWarning: Precision and F-score are ill-defined and being set to 0.0 in labels with no predicted samples. Use `zero_division` parameter to control this behavior.\n",
      "  _warn_prf(average, modifier, msg_start, len(result))\n",
      "C:\\Users\\alexa\\anaconda3\\lib\\site-packages\\sklearn\\metrics\\_classification.py:1327: UndefinedMetricWarning: Precision and F-score are ill-defined and being set to 0.0 in labels with no predicted samples. Use `zero_division` parameter to control this behavior.\n",
      "  _warn_prf(average, modifier, msg_start, len(result))\n",
      "C:\\Users\\alexa\\anaconda3\\lib\\site-packages\\sklearn\\metrics\\_classification.py:1327: UndefinedMetricWarning: Precision and F-score are ill-defined and being set to 0.0 in labels with no predicted samples. Use `zero_division` parameter to control this behavior.\n",
      "  _warn_prf(average, modifier, msg_start, len(result))\n"
     ]
    },
    {
     "name": "stdout",
     "output_type": "stream",
     "text": [
      "                                               precision    recall  f1-score   support\n",
      "\n",
      "                          CONSUMER PROTECTION       1.00      0.25      0.40         4\n",
      "                            EMPLOYMENT POLICY       0.65      0.71      0.68        21\n",
      "            FINANCIAL POLICY: DIRECT PAYMENTS       0.70      0.81      0.75        32\n",
      "                 FINANCIAL POLICY: GUARANTEES       0.71      0.62      0.67        16\n",
      "FINANCIAL POLICY: RESTRUCTURING OF LOAN TERMS       0.75      0.50      0.60         6\n",
      "                                FISCAL POLICY       0.79      0.69      0.73        16\n",
      "                            INDUSTRIAL POLICY       0.00      0.00      0.00         3\n",
      "                                         NONE       0.91      0.92      0.91       329\n",
      "                                PRICE CONTROL       0.33      0.50      0.40         2\n",
      "                        SOCIAL WELFARE POLICY       0.75      0.86      0.80         7\n",
      "\n",
      "                                     accuracy                           0.86       436\n",
      "                                    macro avg       0.66      0.59      0.59       436\n",
      "                                 weighted avg       0.86      0.86      0.86       436\n",
      "\n",
      "                                               precision    recall  f1-score   support\n",
      "\n",
      "                          CONSUMER PROTECTION       1.00      0.50      0.67         4\n",
      "                            EMPLOYMENT POLICY       0.85      0.81      0.83        21\n",
      "            FINANCIAL POLICY: DIRECT PAYMENTS       0.82      0.84      0.83        32\n",
      "                 FINANCIAL POLICY: GUARANTEES       0.68      0.81      0.74        16\n",
      "FINANCIAL POLICY: RESTRUCTURING OF LOAN TERMS       0.75      0.50      0.60         6\n",
      "                                FISCAL POLICY       0.68      0.81      0.74        16\n",
      "                            INDUSTRIAL POLICY       0.00      0.00      0.00         3\n",
      "                                         NONE       0.93      0.94      0.94       329\n",
      "                                PRICE CONTROL       0.50      0.50      0.50         2\n",
      "                        SOCIAL WELFARE POLICY       0.80      0.57      0.67         7\n",
      "\n",
      "                                     accuracy                           0.89       436\n",
      "                                    macro avg       0.70      0.63      0.65       436\n",
      "                                 weighted avg       0.89      0.89      0.89       436\n",
      "\n",
      "                                               precision    recall  f1-score   support\n",
      "\n",
      "                          CONSUMER PROTECTION       1.00      0.50      0.67         4\n",
      "                            EMPLOYMENT POLICY       0.75      0.86      0.80        21\n",
      "            FINANCIAL POLICY: DIRECT PAYMENTS       0.73      0.84      0.78        32\n",
      "                 FINANCIAL POLICY: GUARANTEES       0.88      0.88      0.88        16\n",
      "FINANCIAL POLICY: RESTRUCTURING OF LOAN TERMS       1.00      0.83      0.91         6\n",
      "                                FISCAL POLICY       0.79      0.94      0.86        16\n",
      "                            INDUSTRIAL POLICY       1.00      0.50      0.67         2\n",
      "                                         NONE       0.95      0.94      0.94       328\n",
      "                                PRICE CONTROL       1.00      0.67      0.80         3\n",
      "                        SOCIAL WELFARE POLICY       1.00      0.50      0.67         8\n",
      "\n",
      "                                     accuracy                           0.91       436\n",
      "                                    macro avg       0.91      0.75      0.80       436\n",
      "                                 weighted avg       0.92      0.91      0.91       436\n",
      "\n",
      "                                               precision    recall  f1-score   support\n",
      "\n",
      "                          CONSUMER PROTECTION       0.60      0.75      0.67         4\n",
      "                            EMPLOYMENT POLICY       0.68      0.81      0.74        21\n",
      "            FINANCIAL POLICY: DIRECT PAYMENTS       0.68      0.72      0.70        32\n",
      "                 FINANCIAL POLICY: GUARANTEES       0.87      0.81      0.84        16\n",
      "FINANCIAL POLICY: RESTRUCTURING OF LOAN TERMS       0.83      0.83      0.83         6\n",
      "                                FISCAL POLICY       0.93      0.88      0.90        16\n",
      "                            INDUSTRIAL POLICY       1.00      1.00      1.00         2\n",
      "                                         NONE       0.94      0.94      0.94       328\n",
      "                                PRICE CONTROL       0.67      0.67      0.67         3\n",
      "                        SOCIAL WELFARE POLICY       0.67      0.50      0.57         8\n",
      "\n",
      "                                     accuracy                           0.89       436\n",
      "                                    macro avg       0.79      0.79      0.79       436\n",
      "                                 weighted avg       0.90      0.89      0.90       436\n",
      "\n",
      "                                               precision    recall  f1-score   support\n",
      "\n",
      "                          CONSUMER PROTECTION       0.67      0.50      0.57         4\n",
      "                            EMPLOYMENT POLICY       0.72      0.86      0.78        21\n",
      "            FINANCIAL POLICY: DIRECT PAYMENTS       0.85      0.69      0.76        32\n",
      "                 FINANCIAL POLICY: GUARANTEES       0.59      0.81      0.68        16\n",
      "FINANCIAL POLICY: RESTRUCTURING OF LOAN TERMS       0.67      0.67      0.67         6\n",
      "                                FISCAL POLICY       0.86      0.75      0.80        16\n",
      "                            INDUSTRIAL POLICY       0.50      0.50      0.50         2\n",
      "                                         NONE       0.92      0.94      0.93       328\n",
      "                                PRICE CONTROL       0.67      0.67      0.67         3\n",
      "                        SOCIAL WELFARE POLICY       1.00      0.38      0.55         8\n",
      "\n",
      "                                     accuracy                           0.88       436\n",
      "                                    macro avg       0.74      0.68      0.69       436\n",
      "                                 weighted avg       0.89      0.88      0.88       436\n",
      "\n",
      "                                               precision    recall  f1-score   support\n",
      "\n",
      "                          CONSUMER PROTECTION       1.00      0.75      0.86         4\n",
      "                            EMPLOYMENT POLICY       0.74      0.64      0.68        22\n",
      "            FINANCIAL POLICY: DIRECT PAYMENTS       0.64      0.74      0.69        31\n",
      "                 FINANCIAL POLICY: GUARANTEES       0.86      0.75      0.80        16\n",
      "FINANCIAL POLICY: RESTRUCTURING OF LOAN TERMS       0.75      0.50      0.60         6\n",
      "                                FISCAL POLICY       0.65      0.69      0.67        16\n",
      "                            INDUSTRIAL POLICY       0.67      1.00      0.80         2\n",
      "                                         NONE       0.92      0.93      0.92       328\n",
      "                                PRICE CONTROL       1.00      1.00      1.00         3\n",
      "                        SOCIAL WELFARE POLICY       0.75      0.38      0.50         8\n",
      "\n",
      "                                     accuracy                           0.87       436\n",
      "                                    macro avg       0.80      0.74      0.75       436\n",
      "                                 weighted avg       0.87      0.87      0.87       436\n",
      "\n",
      "                                               precision    recall  f1-score   support\n",
      "\n",
      "                          CONSUMER PROTECTION       0.67      0.50      0.57         4\n",
      "                            EMPLOYMENT POLICY       0.70      0.73      0.71        22\n",
      "            FINANCIAL POLICY: DIRECT PAYMENTS       0.75      0.68      0.71        31\n",
      "                 FINANCIAL POLICY: GUARANTEES       0.87      0.76      0.81        17\n",
      "FINANCIAL POLICY: RESTRUCTURING OF LOAN TERMS       0.80      0.67      0.73         6\n",
      "                                FISCAL POLICY       0.85      0.73      0.79        15\n",
      "                            INDUSTRIAL POLICY       1.00      0.50      0.67         2\n",
      "                                         NONE       0.92      0.94      0.93       328\n",
      "                                PRICE CONTROL       1.00      0.67      0.80         3\n",
      "                        SOCIAL WELFARE POLICY       0.56      0.62      0.59         8\n",
      "\n",
      "                                     accuracy                           0.88       436\n",
      "                                    macro avg       0.81      0.68      0.73       436\n",
      "                                 weighted avg       0.88      0.88      0.88       436\n",
      "\n"
     ]
    },
    {
     "name": "stdout",
     "output_type": "stream",
     "text": [
      "                                               precision    recall  f1-score   support\n",
      "\n",
      "                          CONSUMER PROTECTION       0.67      0.50      0.57         4\n",
      "                            EMPLOYMENT POLICY       0.67      0.82      0.73        22\n",
      "            FINANCIAL POLICY: DIRECT PAYMENTS       0.58      0.66      0.62        32\n",
      "                 FINANCIAL POLICY: GUARANTEES       0.76      0.81      0.79        16\n",
      "FINANCIAL POLICY: RESTRUCTURING OF LOAN TERMS       0.67      0.67      0.67         6\n",
      "                                FISCAL POLICY       0.93      0.93      0.93        15\n",
      "                            INDUSTRIAL POLICY       1.00      0.50      0.67         2\n",
      "                                         NONE       0.93      0.91      0.92       328\n",
      "                                PRICE CONTROL       0.00      0.00      0.00         3\n",
      "                        SOCIAL WELFARE POLICY       0.75      0.75      0.75         8\n",
      "\n",
      "                                     accuracy                           0.86       436\n",
      "                                    macro avg       0.70      0.65      0.66       436\n",
      "                                 weighted avg       0.87      0.86      0.86       436\n",
      "\n",
      "                                               precision    recall  f1-score   support\n",
      "\n",
      "                          CONSUMER PROTECTION       0.50      0.25      0.33         4\n",
      "                            EMPLOYMENT POLICY       0.73      0.86      0.79        22\n",
      "            FINANCIAL POLICY: DIRECT PAYMENTS       0.83      0.91      0.87        32\n",
      "                 FINANCIAL POLICY: GUARANTEES       0.65      0.81      0.72        16\n",
      "FINANCIAL POLICY: RESTRUCTURING OF LOAN TERMS       0.83      0.83      0.83         6\n",
      "                                FISCAL POLICY       0.72      0.81      0.76        16\n",
      "                            INDUSTRIAL POLICY       0.50      0.50      0.50         2\n",
      "                                         NONE       0.94      0.91      0.93       328\n",
      "                                PRICE CONTROL       0.33      0.33      0.33         3\n",
      "                        SOCIAL WELFARE POLICY       0.80      0.57      0.67         7\n",
      "\n",
      "                                     accuracy                           0.89       436\n",
      "                                    macro avg       0.68      0.68      0.67       436\n",
      "                                 weighted avg       0.89      0.89      0.89       436\n",
      "\n",
      "                                               precision    recall  f1-score   support\n",
      "\n",
      "                          CONSUMER PROTECTION       1.00      0.25      0.40         4\n",
      "                            EMPLOYMENT POLICY       0.79      0.90      0.84        21\n",
      "            FINANCIAL POLICY: DIRECT PAYMENTS       0.91      0.91      0.91        32\n",
      "                 FINANCIAL POLICY: GUARANTEES       0.76      0.81      0.79        16\n",
      "FINANCIAL POLICY: RESTRUCTURING OF LOAN TERMS       0.60      0.50      0.55         6\n",
      "                                FISCAL POLICY       0.68      0.81      0.74        16\n",
      "                            INDUSTRIAL POLICY       1.00      0.67      0.80         3\n",
      "                                         NONE       0.96      0.95      0.95       328\n",
      "                                PRICE CONTROL       1.00      1.00      1.00         3\n",
      "                        SOCIAL WELFARE POLICY       0.67      0.86      0.75         7\n",
      "\n",
      "                                     accuracy                           0.92       436\n",
      "                                    macro avg       0.84      0.77      0.77       436\n",
      "                                 weighted avg       0.92      0.92      0.92       436\n",
      "\n",
      "[0.86009174 0.89220183 0.91055046 0.89449541 0.88073394 0.86926606\n",
      " 0.88073394 0.8646789  0.8853211  0.91743119]\n"
     ]
    }
   ],
   "source": [
    "# Nested CV with parameter optimization\n",
    "nested_score = cross_val_score(clf, X_train, y_train, cv=10, \\\n",
    "               scoring=make_scorer(classification_report_with_accuracy_score))\n",
    "\n",
    "print(nested_score )"
   ]
  },
  {
   "cell_type": "code",
   "execution_count": null,
   "id": "a42cac35",
   "metadata": {},
   "outputs": [],
   "source": []
  },
  {
   "cell_type": "code",
   "execution_count": null,
   "id": "1601d42a",
   "metadata": {},
   "outputs": [],
   "source": []
  },
  {
   "cell_type": "code",
   "execution_count": null,
   "id": "dfa15a65",
   "metadata": {},
   "outputs": [],
   "source": []
  }
 ],
 "metadata": {
  "kernelspec": {
   "display_name": "Python 3",
   "language": "python",
   "name": "python3"
  },
  "language_info": {
   "codemirror_mode": {
    "name": "ipython",
    "version": 3
   },
   "file_extension": ".py",
   "mimetype": "text/x-python",
   "name": "python",
   "nbconvert_exporter": "python",
   "pygments_lexer": "ipython3",
   "version": "3.8.8"
  }
 },
 "nbformat": 4,
 "nbformat_minor": 5
}
