{
 "cells": [
  {
   "cell_type": "code",
   "execution_count": 44,
   "id": "e5f398fd",
   "metadata": {},
   "outputs": [
    {
     "name": "stdout",
     "output_type": "stream",
     "text": [
      "Collecting imbalanced-learn\n",
      "  Downloading imbalanced_learn-0.9.1-py3-none-any.whl (199 kB)\n",
      "Requirement already satisfied: scipy>=1.3.2 in c:\\users\\alexa\\anaconda3\\lib\\site-packages (from imbalanced-learn) (1.8.0)\n",
      "Requirement already satisfied: threadpoolctl>=2.0.0 in c:\\users\\alexa\\anaconda3\\lib\\site-packages (from imbalanced-learn) (2.1.0)\n",
      "Collecting scikit-learn>=1.1.0\n",
      "  Downloading scikit_learn-1.1.1-cp38-cp38-win_amd64.whl (7.3 MB)\n",
      "Requirement already satisfied: joblib>=1.0.0 in c:\\users\\alexa\\anaconda3\\lib\\site-packages (from imbalanced-learn) (1.0.1)\n",
      "Requirement already satisfied: numpy>=1.17.3 in c:\\users\\alexa\\anaconda3\\lib\\site-packages (from imbalanced-learn) (1.18.5)\n",
      "Installing collected packages: scikit-learn, imbalanced-learn\n",
      "  Attempting uninstall: scikit-learn\n",
      "    Found existing installation: scikit-learn 1.0.2\n",
      "    Uninstalling scikit-learn-1.0.2:\n",
      "      Successfully uninstalled scikit-learn-1.0.2\n"
     ]
    },
    {
     "name": "stderr",
     "output_type": "stream",
     "text": [
      "ERROR: Could not install packages due to an OSError: [WinError 5] Toegang geweigerd: 'C:\\\\Users\\\\alexa\\\\anaconda3\\\\Lib\\\\site-packages\\\\sklearn\\\\~_check_build\\\\_check_build.cp38-win_amd64.pyd'\n",
      "Consider using the `--user` option or check the permissions.\n",
      "\n"
     ]
    }
   ],
   "source": [
    "!pip install imbalanced-learn"
   ]
  },
  {
   "cell_type": "code",
   "execution_count": 1,
   "id": "27d2e4c3",
   "metadata": {},
   "outputs": [],
   "source": [
    "import pandas as pd\n",
    "from sklearn.feature_extraction.text import CountVectorizer, TfidfVectorizer\n",
    "from sklearn.svm import LinearSVC\n",
    "from sklearn.dummy import DummyClassifier\n",
    "from sklearn.metrics import accuracy_score, classification_report\n",
    "from sklearn.pipeline import Pipeline, FeatureUnion\n",
    "from nltk.corpus import stopwords\n",
    "import pickle\n",
    "import nltk\n",
    "from sklearn.model_selection import KFold,cross_val_score,train_test_split,cross_val_predict\n",
    "from sklearn import svm\n",
    "import numpy as np\n",
    "from nltk.corpus import stopwords\n",
    "from nltk.tokenize import word_tokenize"
   ]
  },
  {
   "cell_type": "code",
   "execution_count": 2,
   "id": "478efe44",
   "metadata": {},
   "outputs": [],
   "source": [
    "df = pd.read_excel('C:/Users/alexa/OneDrive/Documenten/Thesis Lab/dataset_final.xlsx')"
   ]
  },
  {
   "cell_type": "code",
   "execution_count": 3,
   "id": "a2038792",
   "metadata": {},
   "outputs": [
    {
     "data": {
      "text/html": [
       "<div>\n",
       "<style scoped>\n",
       "    .dataframe tbody tr th:only-of-type {\n",
       "        vertical-align: middle;\n",
       "    }\n",
       "\n",
       "    .dataframe tbody tr th {\n",
       "        vertical-align: top;\n",
       "    }\n",
       "\n",
       "    .dataframe thead th {\n",
       "        text-align: right;\n",
       "    }\n",
       "</style>\n",
       "<table border=\"1\" class=\"dataframe\">\n",
       "  <thead>\n",
       "    <tr style=\"text-align: right;\">\n",
       "      <th></th>\n",
       "      <th>Index</th>\n",
       "      <th>Filename</th>\n",
       "      <th>Countrycode</th>\n",
       "      <th>Label</th>\n",
       "      <th>Sentence_translated</th>\n",
       "      <th>Sentence_original</th>\n",
       "    </tr>\n",
       "  </thead>\n",
       "  <tbody>\n",
       "    <tr>\n",
       "      <th>0</th>\n",
       "      <td>0</td>\n",
       "      <td>011_DEU_2020-03-27c_2022-05-20_10:59:17.4.txt</td>\n",
       "      <td>DEU</td>\n",
       "      <td>NONE</td>\n",
       "      <td>Law on the Establishment of an Economic Stabil...</td>\n",
       "      <td>'Gesetz zur Errichtung eines Wirtschaftsstabil...</td>\n",
       "    </tr>\n",
       "    <tr>\n",
       "      <th>1</th>\n",
       "      <td>1</td>\n",
       "      <td>011_DEU_2020-03-27c_2022-05-20_10:59:17.4.txt</td>\n",
       "      <td>DEU</td>\n",
       "      <td>NONE</td>\n",
       "      <td>I p. 543 (no.</td>\n",
       "      <td>'I S. 543 (Nr.',</td>\n",
       "    </tr>\n",
       "    <tr>\n",
       "      <th>2</th>\n",
       "      <td>2</td>\n",
       "      <td>011_DEU_2020-03-27c_2022-05-20_10:59:17.4.txt</td>\n",
       "      <td>DEU</td>\n",
       "      <td>NONE</td>\n",
       "      <td>14); Valid from March 28th, 2020 4 changes | P...</td>\n",
       "      <td>'14); Geltung ab 28.03.2020 4 Änderungen | Dr...</td>\n",
       "    </tr>\n",
       "    <tr>\n",
       "      <th>3</th>\n",
       "      <td>3</td>\n",
       "      <td>011_DEU_2020-03-27c_2022-05-20_10:59:17.4.txt</td>\n",
       "      <td>DEU</td>\n",
       "      <td>NONE</td>\n",
       "      <td>28th</td>\n",
       "      <td>'28.',</td>\n",
       "    </tr>\n",
       "    <tr>\n",
       "      <th>4</th>\n",
       "      <td>4</td>\n",
       "      <td>011_DEU_2020-03-27c_2022-05-20_10:59:17.4.txt</td>\n",
       "      <td>DEU</td>\n",
       "      <td>NONE</td>\n",
       "      <td>March 2020 StFG § 6- § 8- § 10- § 14e- § 15- §...</td>\n",
       "      <td>'März 2020 StFG § 6- § 8- § 10- § 14e- § 15- ...</td>\n",
       "    </tr>\n",
       "    <tr>\n",
       "      <th>...</th>\n",
       "      <td>...</td>\n",
       "      <td>...</td>\n",
       "      <td>...</td>\n",
       "      <td>...</td>\n",
       "      <td>...</td>\n",
       "      <td>...</td>\n",
       "    </tr>\n",
       "    <tr>\n",
       "      <th>5445</th>\n",
       "      <td>5445</td>\n",
       "      <td>001_ES_2020-03-10_2022-05-07_11:57:05.0.txt</td>\n",
       "      <td>ESP</td>\n",
       "      <td>NONE</td>\n",
       "      <td>Second final provision.</td>\n",
       "      <td>'Disposición final segunda.',</td>\n",
       "    </tr>\n",
       "    <tr>\n",
       "      <th>5446</th>\n",
       "      <td>5446</td>\n",
       "      <td>001_ES_2020-03-10_2022-05-07_11:57:05.0.txt</td>\n",
       "      <td>ESP</td>\n",
       "      <td>NONE</td>\n",
       "      <td>Entry into force.</td>\n",
       "      <td>'Entrada en vigor.',</td>\n",
       "    </tr>\n",
       "    <tr>\n",
       "      <th>5447</th>\n",
       "      <td>5447</td>\n",
       "      <td>001_ES_2020-03-10_2022-05-07_11:57:05.0.txt</td>\n",
       "      <td>ESP</td>\n",
       "      <td>NONE</td>\n",
       "      <td>This royal decree-law will enter into force on...</td>\n",
       "      <td>'Este real decreto-ley entrará en vigor el dí...</td>\n",
       "    </tr>\n",
       "    <tr>\n",
       "      <th>5448</th>\n",
       "      <td>5448</td>\n",
       "      <td>001_ES_2020-03-10_2022-05-07_11:57:05.0.txt</td>\n",
       "      <td>ESP</td>\n",
       "      <td>NONE</td>\n",
       "      <td>Given in Madrid- on March 10, 2020.</td>\n",
       "      <td>'Dado en Madrid- el 10 de marzo de 2020.',</td>\n",
       "    </tr>\n",
       "    <tr>\n",
       "      <th>5449</th>\n",
       "      <td>5449</td>\n",
       "      <td>001_ES_2020-03-10_2022-05-07_11:57:05.0.txt</td>\n",
       "      <td>ESP</td>\n",
       "      <td>NONE</td>\n",
       "      <td>FELIPE R. The President of the Government- PED...</td>\n",
       "      <td>'FELIPE R.  El Presidente del Gobierno-  PEDR...</td>\n",
       "    </tr>\n",
       "  </tbody>\n",
       "</table>\n",
       "<p>5450 rows × 6 columns</p>\n",
       "</div>"
      ],
      "text/plain": [
       "      Index                                       Filename Countrycode Label  \\\n",
       "0         0  011_DEU_2020-03-27c_2022-05-20_10:59:17.4.txt         DEU  NONE   \n",
       "1         1  011_DEU_2020-03-27c_2022-05-20_10:59:17.4.txt         DEU  NONE   \n",
       "2         2  011_DEU_2020-03-27c_2022-05-20_10:59:17.4.txt         DEU  NONE   \n",
       "3         3  011_DEU_2020-03-27c_2022-05-20_10:59:17.4.txt         DEU  NONE   \n",
       "4         4  011_DEU_2020-03-27c_2022-05-20_10:59:17.4.txt         DEU  NONE   \n",
       "...     ...                                            ...         ...   ...   \n",
       "5445   5445    001_ES_2020-03-10_2022-05-07_11:57:05.0.txt         ESP  NONE   \n",
       "5446   5446    001_ES_2020-03-10_2022-05-07_11:57:05.0.txt         ESP  NONE   \n",
       "5447   5447    001_ES_2020-03-10_2022-05-07_11:57:05.0.txt         ESP  NONE   \n",
       "5448   5448    001_ES_2020-03-10_2022-05-07_11:57:05.0.txt         ESP  NONE   \n",
       "5449   5449    001_ES_2020-03-10_2022-05-07_11:57:05.0.txt         ESP  NONE   \n",
       "\n",
       "                                    Sentence_translated  \\\n",
       "0     Law on the Establishment of an Economic Stabil...   \n",
       "1                                         I p. 543 (no.   \n",
       "2     14); Valid from March 28th, 2020 4 changes | P...   \n",
       "3                                                  28th   \n",
       "4     March 2020 StFG § 6- § 8- § 10- § 14e- § 15- §...   \n",
       "...                                                 ...   \n",
       "5445                            Second final provision.   \n",
       "5446                                  Entry into force.   \n",
       "5447  This royal decree-law will enter into force on...   \n",
       "5448                Given in Madrid- on March 10, 2020.   \n",
       "5449  FELIPE R. The President of the Government- PED...   \n",
       "\n",
       "                                      Sentence_original  \n",
       "0     'Gesetz zur Errichtung eines Wirtschaftsstabil...  \n",
       "1                                      'I S. 543 (Nr.',  \n",
       "2      '14); Geltung ab 28.03.2020 4 Änderungen | Dr...  \n",
       "3                                                '28.',  \n",
       "4      'März 2020 StFG § 6- § 8- § 10- § 14e- § 15- ...  \n",
       "...                                                 ...  \n",
       "5445                      'Disposición final segunda.',  \n",
       "5446                               'Entrada en vigor.',  \n",
       "5447   'Este real decreto-ley entrará en vigor el dí...  \n",
       "5448         'Dado en Madrid- el 10 de marzo de 2020.',  \n",
       "5449   'FELIPE R.  El Presidente del Gobierno-  PEDR...  \n",
       "\n",
       "[5450 rows x 6 columns]"
      ]
     },
     "execution_count": 3,
     "metadata": {},
     "output_type": "execute_result"
    }
   ],
   "source": [
    "df"
   ]
  },
  {
   "cell_type": "markdown",
   "id": "60271598",
   "metadata": {},
   "source": [
    "# removal of stopwords (in case of multi-lingual model)"
   ]
  },
  {
   "cell_type": "code",
   "execution_count": 4,
   "id": "2a7614ca",
   "metadata": {},
   "outputs": [],
   "source": [
    "stops = set(stopwords.words('spanish'))\n",
    "stops_french = set(stopwords.words('french'))\n",
    "stops_italian = set(stopwords.words('italian'))\n",
    "stops_german = set(stopwords.words('german'))\n",
    "\n",
    "stops = stops.union(stops_french, stops_italian, stops_german)"
   ]
  },
  {
   "cell_type": "code",
   "execution_count": 5,
   "id": "f582e4d7",
   "metadata": {},
   "outputs": [],
   "source": [
    "df['Sentence_original'] = df['Sentence_original'].apply(word_tokenize)"
   ]
  },
  {
   "cell_type": "code",
   "execution_count": 6,
   "id": "83c2508e",
   "metadata": {},
   "outputs": [],
   "source": [
    "df['Sentence_original'] = df['Sentence_original'].apply(lambda words: [word.lower() for word in words if word not in stops])"
   ]
  },
  {
   "cell_type": "code",
   "execution_count": 7,
   "id": "62024ce8",
   "metadata": {},
   "outputs": [],
   "source": [
    "df['Sentence_original'] = df['Sentence_original'].apply(lambda x: ' '.join(map(str, x)))"
   ]
  },
  {
   "cell_type": "code",
   "execution_count": 8,
   "id": "496b7c89",
   "metadata": {},
   "outputs": [
    {
     "data": {
      "text/html": [
       "<div>\n",
       "<style scoped>\n",
       "    .dataframe tbody tr th:only-of-type {\n",
       "        vertical-align: middle;\n",
       "    }\n",
       "\n",
       "    .dataframe tbody tr th {\n",
       "        vertical-align: top;\n",
       "    }\n",
       "\n",
       "    .dataframe thead th {\n",
       "        text-align: right;\n",
       "    }\n",
       "</style>\n",
       "<table border=\"1\" class=\"dataframe\">\n",
       "  <thead>\n",
       "    <tr style=\"text-align: right;\">\n",
       "      <th></th>\n",
       "      <th>Index</th>\n",
       "      <th>Filename</th>\n",
       "      <th>Countrycode</th>\n",
       "      <th>Label</th>\n",
       "      <th>Sentence_translated</th>\n",
       "      <th>Sentence_original</th>\n",
       "    </tr>\n",
       "  </thead>\n",
       "  <tbody>\n",
       "    <tr>\n",
       "      <th>0</th>\n",
       "      <td>0</td>\n",
       "      <td>011_DEU_2020-03-27c_2022-05-20_10:59:17.4.txt</td>\n",
       "      <td>DEU</td>\n",
       "      <td>NONE</td>\n",
       "      <td>Law on the Establishment of an Economic Stabil...</td>\n",
       "      <td>'gesetz errichtung wirtschaftsstabilisierungsf...</td>\n",
       "    </tr>\n",
       "    <tr>\n",
       "      <th>1</th>\n",
       "      <td>1</td>\n",
       "      <td>011_DEU_2020-03-27c_2022-05-20_10:59:17.4.txt</td>\n",
       "      <td>DEU</td>\n",
       "      <td>NONE</td>\n",
       "      <td>I p. 543 (no.</td>\n",
       "      <td>' i s. 543 ( nr . ' ,</td>\n",
       "    </tr>\n",
       "    <tr>\n",
       "      <th>2</th>\n",
       "      <td>2</td>\n",
       "      <td>011_DEU_2020-03-27c_2022-05-20_10:59:17.4.txt</td>\n",
       "      <td>DEU</td>\n",
       "      <td>NONE</td>\n",
       "      <td>14); Valid from March 28th, 2020 4 changes | P...</td>\n",
       "      <td>'14 ) ; geltung ab 28.03.2020 4 änderungen | d...</td>\n",
       "    </tr>\n",
       "    <tr>\n",
       "      <th>3</th>\n",
       "      <td>3</td>\n",
       "      <td>011_DEU_2020-03-27c_2022-05-20_10:59:17.4.txt</td>\n",
       "      <td>DEU</td>\n",
       "      <td>NONE</td>\n",
       "      <td>28th</td>\n",
       "      <td>'28 . ' ,</td>\n",
       "    </tr>\n",
       "    <tr>\n",
       "      <th>4</th>\n",
       "      <td>4</td>\n",
       "      <td>011_DEU_2020-03-27c_2022-05-20_10:59:17.4.txt</td>\n",
       "      <td>DEU</td>\n",
       "      <td>NONE</td>\n",
       "      <td>March 2020 StFG § 6- § 8- § 10- § 14e- § 15- §...</td>\n",
       "      <td>'märz 2020 stfg § 6- § 8- § 10- § 14e- § 15- §...</td>\n",
       "    </tr>\n",
       "    <tr>\n",
       "      <th>...</th>\n",
       "      <td>...</td>\n",
       "      <td>...</td>\n",
       "      <td>...</td>\n",
       "      <td>...</td>\n",
       "      <td>...</td>\n",
       "      <td>...</td>\n",
       "    </tr>\n",
       "    <tr>\n",
       "      <th>5445</th>\n",
       "      <td>5445</td>\n",
       "      <td>001_ES_2020-03-10_2022-05-07_11:57:05.0.txt</td>\n",
       "      <td>ESP</td>\n",
       "      <td>NONE</td>\n",
       "      <td>Second final provision.</td>\n",
       "      <td>'disposición final segunda . ' ,</td>\n",
       "    </tr>\n",
       "    <tr>\n",
       "      <th>5446</th>\n",
       "      <td>5446</td>\n",
       "      <td>001_ES_2020-03-10_2022-05-07_11:57:05.0.txt</td>\n",
       "      <td>ESP</td>\n",
       "      <td>NONE</td>\n",
       "      <td>Entry into force.</td>\n",
       "      <td>'entrada vigor . ' ,</td>\n",
       "    </tr>\n",
       "    <tr>\n",
       "      <th>5447</th>\n",
       "      <td>5447</td>\n",
       "      <td>001_ES_2020-03-10_2022-05-07_11:57:05.0.txt</td>\n",
       "      <td>ESP</td>\n",
       "      <td>NONE</td>\n",
       "      <td>This royal decree-law will enter into force on...</td>\n",
       "      <td>'este real decreto-ley entrará vigor día sigui...</td>\n",
       "    </tr>\n",
       "    <tr>\n",
       "      <th>5448</th>\n",
       "      <td>5448</td>\n",
       "      <td>001_ES_2020-03-10_2022-05-07_11:57:05.0.txt</td>\n",
       "      <td>ESP</td>\n",
       "      <td>NONE</td>\n",
       "      <td>Given in Madrid- on March 10, 2020.</td>\n",
       "      <td>'dado madrid- 10 marzo 2020 . ' ,</td>\n",
       "    </tr>\n",
       "    <tr>\n",
       "      <th>5449</th>\n",
       "      <td>5449</td>\n",
       "      <td>001_ES_2020-03-10_2022-05-07_11:57:05.0.txt</td>\n",
       "      <td>ESP</td>\n",
       "      <td>NONE</td>\n",
       "      <td>FELIPE R. The President of the Government- PED...</td>\n",
       "      <td>'felipe r. el presidente gobierno- pedro sánch...</td>\n",
       "    </tr>\n",
       "  </tbody>\n",
       "</table>\n",
       "<p>5450 rows × 6 columns</p>\n",
       "</div>"
      ],
      "text/plain": [
       "      Index                                       Filename Countrycode Label  \\\n",
       "0         0  011_DEU_2020-03-27c_2022-05-20_10:59:17.4.txt         DEU  NONE   \n",
       "1         1  011_DEU_2020-03-27c_2022-05-20_10:59:17.4.txt         DEU  NONE   \n",
       "2         2  011_DEU_2020-03-27c_2022-05-20_10:59:17.4.txt         DEU  NONE   \n",
       "3         3  011_DEU_2020-03-27c_2022-05-20_10:59:17.4.txt         DEU  NONE   \n",
       "4         4  011_DEU_2020-03-27c_2022-05-20_10:59:17.4.txt         DEU  NONE   \n",
       "...     ...                                            ...         ...   ...   \n",
       "5445   5445    001_ES_2020-03-10_2022-05-07_11:57:05.0.txt         ESP  NONE   \n",
       "5446   5446    001_ES_2020-03-10_2022-05-07_11:57:05.0.txt         ESP  NONE   \n",
       "5447   5447    001_ES_2020-03-10_2022-05-07_11:57:05.0.txt         ESP  NONE   \n",
       "5448   5448    001_ES_2020-03-10_2022-05-07_11:57:05.0.txt         ESP  NONE   \n",
       "5449   5449    001_ES_2020-03-10_2022-05-07_11:57:05.0.txt         ESP  NONE   \n",
       "\n",
       "                                    Sentence_translated  \\\n",
       "0     Law on the Establishment of an Economic Stabil...   \n",
       "1                                         I p. 543 (no.   \n",
       "2     14); Valid from March 28th, 2020 4 changes | P...   \n",
       "3                                                  28th   \n",
       "4     March 2020 StFG § 6- § 8- § 10- § 14e- § 15- §...   \n",
       "...                                                 ...   \n",
       "5445                            Second final provision.   \n",
       "5446                                  Entry into force.   \n",
       "5447  This royal decree-law will enter into force on...   \n",
       "5448                Given in Madrid- on March 10, 2020.   \n",
       "5449  FELIPE R. The President of the Government- PED...   \n",
       "\n",
       "                                      Sentence_original  \n",
       "0     'gesetz errichtung wirtschaftsstabilisierungsf...  \n",
       "1                                 ' i s. 543 ( nr . ' ,  \n",
       "2     '14 ) ; geltung ab 28.03.2020 4 änderungen | d...  \n",
       "3                                             '28 . ' ,  \n",
       "4     'märz 2020 stfg § 6- § 8- § 10- § 14e- § 15- §...  \n",
       "...                                                 ...  \n",
       "5445                   'disposición final segunda . ' ,  \n",
       "5446                               'entrada vigor . ' ,  \n",
       "5447  'este real decreto-ley entrará vigor día sigui...  \n",
       "5448                  'dado madrid- 10 marzo 2020 . ' ,  \n",
       "5449  'felipe r. el presidente gobierno- pedro sánch...  \n",
       "\n",
       "[5450 rows x 6 columns]"
      ]
     },
     "execution_count": 8,
     "metadata": {},
     "output_type": "execute_result"
    }
   ],
   "source": [
    "df"
   ]
  },
  {
   "cell_type": "markdown",
   "id": "8273c571",
   "metadata": {},
   "source": [
    "# Majority Baseline"
   ]
  },
  {
   "cell_type": "code",
   "execution_count": 4,
   "id": "3beb2f56",
   "metadata": {},
   "outputs": [
    {
     "data": {
      "text/plain": [
       "5450"
      ]
     },
     "execution_count": 4,
     "metadata": {},
     "output_type": "execute_result"
    }
   ],
   "source": [
    "len(df['Label'])"
   ]
  },
  {
   "cell_type": "code",
   "execution_count": 23,
   "id": "5028b1af",
   "metadata": {},
   "outputs": [
    {
     "data": {
      "text/plain": [
       "NONE                                             4123\n",
       "FINANCIAL POLICY: DIRECT PAYMENTS                 387\n",
       "EMPLOYMENT POLICY                                 254\n",
       "FINANCIAL POLICY: GUARANTEES                      205\n",
       "FISCAL POLICY                                     188\n",
       "SOCIAL WELFARE POLICY                              99\n",
       "FINANCIAL POLICY: RESTRUCTURING OF LOAN TERMS      75\n",
       "CONSUMER PROTECTION                                48\n",
       "PRICE CONTROL                                      38\n",
       "INDUSTRIAL POLICY                                  33\n",
       "Name: Label, dtype: int64"
      ]
     },
     "execution_count": 23,
     "metadata": {},
     "output_type": "execute_result"
    }
   ],
   "source": [
    "df['Label'].value_counts()"
   ]
  },
  {
   "cell_type": "code",
   "execution_count": 5,
   "id": "28d70ee1",
   "metadata": {},
   "outputs": [
    {
     "data": {
      "text/plain": [
       "DummyClassifier(strategy='stratified')"
      ]
     },
     "execution_count": 5,
     "metadata": {},
     "output_type": "execute_result"
    }
   ],
   "source": [
    "dummy_clf = DummyClassifier(strategy=\"stratified\")\n",
    "dummy_clf.fit(df['Sentence_translated'], df['Label'])"
   ]
  },
  {
   "cell_type": "code",
   "execution_count": 6,
   "id": "6c80a50d",
   "metadata": {},
   "outputs": [
    {
     "data": {
      "text/plain": [
       "array(['NONE', 'FINANCIAL POLICY: DIRECT PAYMENTS', 'NONE', ..., 'NONE',\n",
       "       'NONE', 'NONE'], dtype=object)"
      ]
     },
     "execution_count": 6,
     "metadata": {},
     "output_type": "execute_result"
    }
   ],
   "source": [
    "dummy_clf.predict(df['Sentence_translated'])"
   ]
  },
  {
   "cell_type": "code",
   "execution_count": 7,
   "id": "ab724f5c",
   "metadata": {},
   "outputs": [
    {
     "data": {
      "text/plain": [
       "0.5897247706422019"
      ]
     },
     "execution_count": 7,
     "metadata": {},
     "output_type": "execute_result"
    }
   ],
   "source": [
    "dummy_clf.score(df['Sentence_translated'], df['Label'])"
   ]
  },
  {
   "cell_type": "markdown",
   "id": "80a8549b",
   "metadata": {},
   "source": [
    "# Training"
   ]
  },
  {
   "cell_type": "code",
   "execution_count": 19,
   "id": "ded12e7f",
   "metadata": {},
   "outputs": [],
   "source": [
    "X_train, X_test, y_train, y_test = train_test_split(df['Sentence_translated'], df['Label'], test_size=0.2, random_state=111)"
   ]
  },
  {
   "cell_type": "code",
   "execution_count": 20,
   "id": "aef75d20",
   "metadata": {},
   "outputs": [],
   "source": [
    "vectorizer = FeatureUnion([\n",
    "    ('tfidf_word', TfidfVectorizer(ngram_range=(1, 2), strip_accents='unicode', lowercase=True, stop_words='english')),\n",
    "    ('tfidf_word2', TfidfVectorizer(analyzer='word', ngram_range=(1, 5), strip_accents='unicode', lowercase=True, stop_words='english')),\n",
    "    ('tfidf_char', TfidfVectorizer(analyzer='char', ngram_range=(1, 10), strip_accents='unicode', lowercase=True, stop_words='english'))\n",
    "])"
   ]
  },
  {
   "cell_type": "code",
   "execution_count": 21,
   "id": "9def52d1",
   "metadata": {},
   "outputs": [],
   "source": [
    "clf = Pipeline([\n",
    "('vectorize', vectorizer),\n",
    "('classify',LinearSVC())\n",
    "])"
   ]
  },
  {
   "cell_type": "code",
   "execution_count": 39,
   "id": "09acf141",
   "metadata": {},
   "outputs": [],
   "source": [
    "tfidf_bow_translated = clf.fit(X_train,y_train)"
   ]
  },
  {
   "cell_type": "code",
   "execution_count": 42,
   "id": "e3bba501",
   "metadata": {},
   "outputs": [],
   "source": [
    "pickle.dump(tfidf_bow_translated, open('tfidf_bow_translated.pkl', 'wb'))"
   ]
  },
  {
   "cell_type": "code",
   "execution_count": 40,
   "id": "f775232e",
   "metadata": {},
   "outputs": [],
   "source": [
    "test_prediction_1 = tfidf_bow_translated.predict(X_test)"
   ]
  },
  {
   "cell_type": "code",
   "execution_count": 41,
   "id": "5006c92a",
   "metadata": {},
   "outputs": [
    {
     "name": "stdout",
     "output_type": "stream",
     "text": [
      "prediction on trained_model_1 (word trigram + char bi-gram)\n",
      "                                               precision    recall  f1-score   support\n",
      "\n",
      "                          CONSUMER PROTECTION       0.83      0.62      0.71         8\n",
      "                            EMPLOYMENT POLICY       0.82      0.70      0.76        40\n",
      "            FINANCIAL POLICY: DIRECT PAYMENTS       0.74      0.74      0.74        69\n",
      "                 FINANCIAL POLICY: GUARANTEES       0.80      0.75      0.78        44\n",
      "FINANCIAL POLICY: RESTRUCTURING OF LOAN TERMS       0.89      0.53      0.67        15\n",
      "                                FISCAL POLICY       0.81      0.70      0.75        30\n",
      "                            INDUSTRIAL POLICY       0.50      0.20      0.29        10\n",
      "                                         NONE       0.92      0.96      0.94       841\n",
      "                                PRICE CONTROL       0.86      0.60      0.71        10\n",
      "                        SOCIAL WELFARE POLICY       0.80      0.35      0.48        23\n",
      "\n",
      "                                     accuracy                           0.89      1090\n",
      "                                    macro avg       0.80      0.62      0.68      1090\n",
      "                                 weighted avg       0.89      0.89      0.88      1090\n",
      "\n"
     ]
    }
   ],
   "source": [
    "print(\"prediction on trained_model_1 (word trigram + char bi-gram)\")\n",
    "print(classification_report(y_test, test_prediction_1))"
   ]
  },
  {
   "cell_type": "markdown",
   "id": "4ba590fe",
   "metadata": {},
   "source": [
    "# Cross Validation on tfidfvectorizer"
   ]
  },
  {
   "cell_type": "markdown",
   "id": "983d1241",
   "metadata": {},
   "source": [
    "#1 Using English-translated Sentences"
   ]
  },
  {
   "cell_type": "code",
   "execution_count": 26,
   "id": "f024efd9",
   "metadata": {},
   "outputs": [],
   "source": [
    "X_train, X_test, y_train, y_test = train_test_split(df['Sentence_translated'], df['Label'], test_size=0.2, random_state=0)"
   ]
  },
  {
   "cell_type": "code",
   "execution_count": 36,
   "id": "b4937091",
   "metadata": {},
   "outputs": [],
   "source": [
    "from sklearn import metrics\n",
    "scores_f1 = cross_val_score(clf, X_train, y_train, cv=10, scoring='accuracy')"
   ]
  },
  {
   "cell_type": "code",
   "execution_count": 37,
   "id": "b8459b30",
   "metadata": {},
   "outputs": [
    {
     "name": "stdout",
     "output_type": "stream",
     "text": [
      "[0.86009174 0.88302752 0.91743119 0.90366972 0.88302752 0.88302752\n",
      " 0.88073394 0.87155963 0.88761468 0.91284404]\n"
     ]
    }
   ],
   "source": [
    "print(scores_f1)\n"
   ]
  },
  {
   "cell_type": "code",
   "execution_count": 38,
   "id": "1395d85e",
   "metadata": {},
   "outputs": [
    {
     "name": "stdout",
     "output_type": "stream",
     "text": [
      "0.888302752293578\n"
     ]
    }
   ],
   "source": [
    "import statistics\n",
    "average = statistics.mean(scores_f1)\n",
    "print(average)"
   ]
  },
  {
   "cell_type": "markdown",
   "id": "c636af8e",
   "metadata": {},
   "source": [
    "#2 Using Multilingual Sentences"
   ]
  },
  {
   "cell_type": "code",
   "execution_count": 22,
   "id": "e7f72cd9",
   "metadata": {},
   "outputs": [],
   "source": [
    "X_train, X_test, y_train, y_test = train_test_split(df['Sentence_original'], df['Label'], test_size=0.2, random_state=0)"
   ]
  },
  {
   "cell_type": "code",
   "execution_count": 23,
   "id": "c42fa530",
   "metadata": {},
   "outputs": [],
   "source": [
    "from sklearn import metrics\n",
    "scores = cross_val_score(clf, X_train, y_train, cv=5, scoring='recall_macro')"
   ]
  },
  {
   "cell_type": "code",
   "execution_count": 24,
   "id": "bc356ab7",
   "metadata": {},
   "outputs": [
    {
     "name": "stdout",
     "output_type": "stream",
     "text": [
      "[0.53472783 0.66785101 0.57439574 0.52345546 0.64070594]\n"
     ]
    }
   ],
   "source": [
    "print(scores)"
   ]
  },
  {
   "cell_type": "code",
   "execution_count": 25,
   "id": "008e9f70",
   "metadata": {
    "scrolled": true
   },
   "outputs": [
    {
     "name": "stdout",
     "output_type": "stream",
     "text": [
      "0.5882271974218695\n"
     ]
    }
   ],
   "source": [
    "import statistics\n",
    "average = statistics.mean(scores)\n",
    "print(average)"
   ]
  },
  {
   "cell_type": "code",
   "execution_count": null,
   "id": "39b850be",
   "metadata": {},
   "outputs": [],
   "source": []
  }
 ],
 "metadata": {
  "kernelspec": {
   "display_name": "Python 3",
   "language": "python",
   "name": "python3"
  },
  "language_info": {
   "codemirror_mode": {
    "name": "ipython",
    "version": 3
   },
   "file_extension": ".py",
   "mimetype": "text/x-python",
   "name": "python",
   "nbconvert_exporter": "python",
   "pygments_lexer": "ipython3",
   "version": "3.8.8"
  }
 },
 "nbformat": 4,
 "nbformat_minor": 5
}
