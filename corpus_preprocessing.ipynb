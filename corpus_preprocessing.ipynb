{
 "cells": [
  {
   "cell_type": "code",
   "execution_count": 58,
   "id": "97d91565",
   "metadata": {},
   "outputs": [],
   "source": [
    "import glob\n",
    "from deep_translator import GoogleTranslator\n",
    "from os.path import basename\n",
    "from nltk.tokenize import sent_tokenize, word_tokenize"
   ]
  },
  {
   "cell_type": "code",
   "execution_count": 4,
   "id": "9784c6b1",
   "metadata": {},
   "outputs": [],
   "source": [
    "filepaths = []\n",
    "\n",
    "for name in glob.glob('C:/Users/alexa/OneDrive/Documenten/Thesis Lab/Legal Documents/Selected_doc/*.txt'):\n",
    "    filepaths.append(name)"
   ]
  },
  {
   "cell_type": "code",
   "execution_count": 5,
   "id": "7fabd73d",
   "metadata": {},
   "outputs": [],
   "source": [
    "filetexts = []\n",
    "\n",
    "for f in filepaths:\n",
    "    with open(f, encoding='utf-8', errors='ignore') as f:\n",
    "        filetexts.append(f.read())"
   ]
  },
  {
   "cell_type": "code",
   "execution_count": null,
   "id": "9d9050a4",
   "metadata": {},
   "outputs": [],
   "source": []
  },
  {
   "cell_type": "code",
   "execution_count": 32,
   "id": "e3260551",
   "metadata": {},
   "outputs": [],
   "source": [
    "def remove_dir(filepath):\n",
    "    return basename(filepath)"
   ]
  },
  {
   "cell_type": "code",
   "execution_count": 73,
   "id": "672a3a5a",
   "metadata": {
    "scrolled": true
   },
   "outputs": [],
   "source": [
    "def preprocessing(filetext, filepath):\n",
    "    filetext = filetext.replace('\\n',' ')\n",
    "    filetext = filetext.replace(',', '-')\n",
    "    filetext = str(sent_tokenize(filetext))\n",
    "    filetext = filetext.replace(',', ',\\n')\n",
    "    filename = remove_dir(filepath)\n",
    "    text_file = open(\"C:/Users/alexa/OneDrive/Documenten/Thesis Lab/Legal Documents/selected_doc/\" + filename, \"w\", errors='ignore', encoding='utf-8')\n",
    "    text_file.write(str(filetext))\n",
    "    text_file.close()\n",
    "    return "
   ]
  },
  {
   "cell_type": "code",
   "execution_count": 74,
   "id": "e2a6545b",
   "metadata": {},
   "outputs": [],
   "source": [
    "for f in range(len(filepaths)):\n",
    "    preprocessing(filetexts[f], filepaths[f])"
   ]
  },
  {
   "cell_type": "code",
   "execution_count": null,
   "id": "902b50cf",
   "metadata": {},
   "outputs": [],
   "source": []
  }
 ],
 "metadata": {
  "kernelspec": {
   "display_name": "Python 3",
   "language": "python",
   "name": "python3"
  },
  "language_info": {
   "codemirror_mode": {
    "name": "ipython",
    "version": 3
   },
   "file_extension": ".py",
   "mimetype": "text/x-python",
   "name": "python",
   "nbconvert_exporter": "python",
   "pygments_lexer": "ipython3",
   "version": "3.8.8"
  }
 },
 "nbformat": 4,
 "nbformat_minor": 5
}
